{
 "cells": [
  {
   "cell_type": "code",
   "execution_count": 1,
   "metadata": {},
   "outputs": [],
   "source": [
    "# LearningML-DayFour\n",
    "#\n",
    "# Logistic regression is used for a different type of problem known as a classification problem. The objective\n",
    "# is to predict which group an object under observation will belong to. The result is a discrete value, 0 or 1.\n",
    "#\n",
    "# This dataset contains information on users in a social network. The data includes a user id, gender type,\n",
    "# the age, and the estimated salary. A car company has just launched their brand new luxury SUV and they\n",
    "# are trying to see which of these users of the social network are predicted to buy this brand new SUV.\n",
    "# The last column indicates if the user bought this SUV (dependent variable). We are going to build a model \n",
    "# that is going to predict if a user is going to buy or not the SUV based on the age and the estimated salary\n",
    "# independent variables. \n",
    "\n",
    "# import the initial libraries we'll be using\n",
    "import numpy as np\n",
    "import matplotlib.pyplot as plt\n",
    "import pandas as pd"
   ]
  },
  {
   "cell_type": "code",
   "execution_count": 2,
   "metadata": {},
   "outputs": [
    {
     "name": "stdout",
     "output_type": "stream",
     "text": [
      "x values look like  [[    27  84000]\n",
      " [    32 150000]\n",
      " [    25  33000]]\n",
      "y values look like  [0 1 0]\n"
     ]
    }
   ],
   "source": [
    "# next we'll import the dataset, make sure to set the path to your environment\n",
    "# we'll also form our data frames for use in creating the logistic model\n",
    "#\n",
    "dataset = pd.read_csv('../Materials/datasets/Social_Network_Ads.csv')\n",
    "x = dataset.iloc[:, [2, 3]].values\n",
    "y = dataset.iloc[:, 4].values\n",
    "\n",
    "# the x data frame contains only the age and salary data\n",
    "print('x values look like ', x[6:9])\n",
    "\n",
    "# the y vector contains the binary data on whether the user bought the SUV or not\n",
    "print('y values look like ', y[6:9])\n",
    "\n"
   ]
  },
  {
   "cell_type": "code",
   "execution_count": 3,
   "metadata": {},
   "outputs": [
    {
     "name": "stdout",
     "output_type": "stream",
     "text": [
      "The size/shape of our training set is  (320, 2) (320,)\n",
      "The size/shape of our test set is  (80, 2) (80,)\n",
      "[[    30  87000]\n",
      " [    38  50000]\n",
      " [    35  75000]\n",
      " [    30  79000]\n",
      " [    35  50000]\n",
      " [    27  20000]\n",
      " [    31  15000]\n",
      " [    36 144000]\n",
      " [    18  68000]\n",
      " [    47  43000]]\n"
     ]
    }
   ],
   "source": [
    "# as usual, we split our dataset into a training set for the model, and a test set\n",
    "# I like to use an 80/20 split\n",
    "#\n",
    "# NOTE: In the DayFour code in github, the train_test_split library is retrieved from the sklearn.cross_validation\n",
    "# package but in sklean 0.20.x, the library is now located in the model_selection package\n",
    "#\n",
    "from sklearn.model_selection import train_test_split\n",
    "x_train, x_test, y_train, y_test = train_test_split(x, y, test_size = 0.20, random_state = 0)\n",
    "\n",
    "print ('The size/shape of our training set is ', x_train.shape, y_train.shape)\n",
    "print ('The size/shape of our test set is ',x_test.shape, y_test.shape)\n",
    "\n",
    "print (x_test[:10])"
   ]
  },
  {
   "cell_type": "code",
   "execution_count": 4,
   "metadata": {},
   "outputs": [
    {
     "name": "stdout",
     "output_type": "stream",
     "text": [
      "Here is the scaled training data  [[ 1.92295008  2.14601566]\n",
      " [ 2.02016082  0.3787193 ]\n",
      " [-1.3822153  -0.4324987 ]\n",
      " [-1.18779381 -1.01194013]\n",
      " [ 1.92295008 -0.92502392]\n",
      " [ 0.36757813  0.29180308]\n",
      " [ 0.17315664  0.14694273]\n",
      " [ 2.02016082  1.74040666]\n",
      " [ 0.75642112 -0.83810771]\n",
      " [ 0.27036739 -0.28763835]]\n",
      "Here is the scaled test data  [[ 1.92295008  2.14601566]\n",
      " [ 2.02016082  0.3787193 ]\n",
      " [-1.3822153  -0.4324987 ]\n",
      " [-1.18779381 -1.01194013]\n",
      " [ 1.92295008 -0.92502392]\n",
      " [ 0.36757813  0.29180308]\n",
      " [ 0.17315664  0.14694273]\n",
      " [ 2.02016082  1.74040666]\n",
      " [ 0.75642112 -0.83810771]\n",
      " [ 0.27036739 -0.28763835]]\n"
     ]
    },
    {
     "name": "stderr",
     "output_type": "stream",
     "text": [
      "/opt/local/Library/Frameworks/Python.framework/Versions/3.7/lib/python3.7/site-packages/sklearn/utils/validation.py:595: DataConversionWarning: Data with input dtype int64 was converted to float64 by StandardScaler.\n",
      "  warnings.warn(msg, DataConversionWarning)\n",
      "/opt/local/Library/Frameworks/Python.framework/Versions/3.7/lib/python3.7/site-packages/sklearn/utils/validation.py:595: DataConversionWarning: Data with input dtype int64 was converted to float64 by StandardScaler.\n",
      "  warnings.warn(msg, DataConversionWarning)\n",
      "/opt/local/Library/Frameworks/Python.framework/Versions/3.7/lib/python3.7/site-packages/sklearn/utils/validation.py:595: DataConversionWarning: Data with input dtype int64 was converted to float64 by StandardScaler.\n",
      "  warnings.warn(msg, DataConversionWarning)\n"
     ]
    }
   ],
   "source": [
    "# Feature scaling\n",
    "# feature scaling is essentially data normalization applied to the dataset to bring all of the data within\n",
    "# a particular range. Normalized data can help speed the calculations in the modeling effort but this activity\n",
    "# should be used sparingly in data pre-processing, and only after an initial analysis of the data is performed\n",
    "# because feature scaling can hide outlier behaviors, and cause other undesireable data transformations\n",
    "\n",
    "from sklearn.preprocessing import StandardScaler\n",
    "sc = StandardScaler()\n",
    "x_train_norm = sc.fit_transform(x_train)\n",
    "x_test_norm = sc.transform(x_test)\n",
    "\n",
    "print('Here is the scaled training data ', x_train_norm[:10])\n",
    "print('Here is the scaled test data ', x_train_norm[:10])"
   ]
  },
  {
   "cell_type": "code",
   "execution_count": 5,
   "metadata": {},
   "outputs": [
    {
     "name": "stdout",
     "output_type": "stream",
     "text": [
      "The intercept a0 = -0.8477\n",
      "The coefficient a1 =  [[1.99162298 1.07582244]]\n"
     ]
    }
   ],
   "source": [
    "# now we fit a logistic model to our training data\n",
    "\n",
    "from sklearn.linear_model import LogisticRegression\n",
    "classifier = LogisticRegression(solver=\"liblinear\")\n",
    "classifier.fit(x_train_norm, y_train)\n",
    "\n",
    "print (\"The intercept a0 = %.4f\" % classifier.intercept_)\n",
    "print (\"The coefficient a1 = \", classifier.coef_)"
   ]
  },
  {
   "cell_type": "code",
   "execution_count": 6,
   "metadata": {},
   "outputs": [
    {
     "name": "stdout",
     "output_type": "stream",
     "text": [
      "The forcasted data =  [0 0 0 0 0 0 0 1 0 1 0 0 0 0 0 0 0 0 1 0 0 1 0 1 0 1 0 0 0 0 0 0 1 0 0 0 0\n",
      " 0 0 1 0 0 0 0 1 0 0 1 0 1 1 0 0 0 1 0 0 0 0 0 0 1 0 0 0 1 0 0 0 0 1 0 0 0\n",
      " 0 0 1 0 1 1]\n",
      "The mean accuracy determination for the prediction = 0.9125\n"
     ]
    }
   ],
   "source": [
    "# now that we have a fitted model for our dataset, let's do a prediction and analyze it's accuracy\n",
    "#\n",
    "y_pred = classifier.predict(x_test_norm)\n",
    "\n",
    "print (\"The forcasted data = \", y_pred)\n",
    "\n",
    "# now let's look at how good the prediction is from our model\n",
    "# the accuracy is measured on a scale of 0-1.\n",
    "print (\"The mean accuracy determination for the prediction = %.4f\" % classifier.score(x_test_norm, y_test))"
   ]
  },
  {
   "cell_type": "code",
   "execution_count": 8,
   "metadata": {},
   "outputs": [
    {
     "name": "stdout",
     "output_type": "stream",
     "text": [
      "[[56  2]\n",
      " [ 5 17]]\n",
      "              precision    recall  f1-score   support\n",
      "\n",
      "           0       0.92      0.97      0.94        58\n",
      "           1       0.89      0.77      0.83        22\n",
      "\n",
      "   micro avg       0.91      0.91      0.91        80\n",
      "   macro avg       0.91      0.87      0.89        80\n",
      "weighted avg       0.91      0.91      0.91        80\n",
      "\n"
     ]
    },
    {
     "data": {
      "image/png": "[encoded data removed]",
      "text/plain": [
       "<Figure size 432x288 with 1 Axes>"
      ]
     },
     "metadata": {
      "needs_background": "light"
     },
     "output_type": "display_data"
    }
   ],
   "source": [
    "# a common method for evaluating the accruacy of classification model, such as the one we just built, is to \n",
    "# use a confusion matrix (no I don't know why they call it that without going to look it up). What a confusion\n",
    "# matrix provides is a succinct summary of the following categories for our classification model: \n",
    "# True Positives, True Negatives, False Positives, and False Negatives.\n",
    "#\n",
    "# here's a link to a great explanaton: https://www.dataschool.io/simple-guide-to-confusion-matrix-terminology/\n",
    "\n",
    "# build a confusion matrix comparing the test data (actual data) with the predicted data\n",
    "from sklearn.metrics import confusion_matrix, classification_report\n",
    "cm = confusion_matrix(y_test, y_pred)\n",
    "\n",
    "print(cm)\n",
    "print(classification_report(y_test, y_pred))\n",
    "\n",
    "# let's plot the confusion matrix\n",
    "# Thanks to the following site for excellent plot code for confusion matrices: \n",
    "# http://www.tarekatwan.com/index.php/2017/12/how-to-plot-a-confusion-matrix-in-python/\n",
    "#\n",
    "plt.clf()\n",
    "plt.imshow(cm, interpolation='nearest', cmap=plt.cm.Wistia)\n",
    "classNames = ['Negative','Positive']\n",
    "plt.title('Confusion Matrix - Test Data')\n",
    "plt.ylabel('True label')\n",
    "plt.xlabel('Predicted label')\n",
    "tick_marks = np.arange(len(classNames))\n",
    "plt.xticks(tick_marks, classNames, rotation=45)\n",
    "plt.yticks(tick_marks, classNames)\n",
    "s = [['TN','FP'], ['FN', 'TP']]\n",
    "for i in range(2):\n",
    "    for j in range(2):\n",
    "        plt.text(j,i, str(s[i][j])+\" = \"+str(cm[i][j]))\n",
    "plt.show()\n"
   ]
  },
  {
   "cell_type": "code",
   "execution_count": null,
   "metadata": {},
   "outputs": [],
   "source": [
    "# as an extra credit exercise, let's fit a logistic model to the raw data, that is, do not apply the feature scaling\n",
    "# and we'll see how the prediction accuracy looks for the non-scaled data\n",
    "\n",
    "classifier_noscale = LogisticRegression(solver=\"liblinear\")\n",
    "classifier_noscale.fit(x_train, y_train)\n",
    "\n",
    "print (\"The intercept a0 = %.4f\" % classifier_noscale.intercept_)\n",
    "print (\"The coefficient a1 = \", classifier_noscale.coef_)\n",
    "\n",
    "y_pred_noscale = classifier_noscale.predict(x_test)\n",
    "\n",
    "print (\"The forcasted data = \", y_pred_noscale)\n",
    "\n",
    "# now let's look at how good the prediction is from our model\n",
    "# the accuracy is measured on a scale of 0-1.\n",
    "print (\"The mean accuracy determination for the prediction = %.4f\" % classifier_noscale.score(x_test, y_test))"
   ]
  },
  {
   "cell_type": "code",
   "execution_count": null,
   "metadata": {},
   "outputs": [],
   "source": [
    "# here is the confusion matrix for the non-scaled Logistic Regression classifier model\n",
    "cm_noscale = confusion_matrix(y_test, y_pred_noscale)\n",
    "\n",
    "print(cm_noscale)\n",
    "\n",
    "# let's plot the confusion matrix\n",
    "plt.clf()\n",
    "plt.imshow(cm_noscale, interpolation='nearest', cmap=plt.cm.Wistia)\n",
    "classNames = ['Negative','Positive']\n",
    "plt.title('Confusion Matrix - Test Data')\n",
    "plt.ylabel('True label')\n",
    "plt.xlabel('Predicted label')\n",
    "tick_marks = np.arange(len(classNames))\n",
    "plt.xticks(tick_marks, classNames, rotation=45)\n",
    "plt.yticks(tick_marks, classNames)\n",
    "s = [['TN','FP'], ['FN', 'TP']]\n",
    "for i in range(2):\n",
    "    for j in range(2):\n",
    "        plt.text(j,i, str(s[i][j])+\" = \"+str(cm_noscale[i][j]))\n",
    "plt.show()\n",
    "\n",
    "print('The observation that is evident in the confusion matrix plot is the number of False Positives is much higher')\n",
    "print('This would have a huge determental effect on the effectiveness of our model')"
   ]
  },
  {
   "cell_type": "code",
   "execution_count": null,
   "metadata": {},
   "outputs": [],
   "source": []
  }
 ],
 "metadata": {
  "kernelspec": {
   "display_name": "Python 3",
   "language": "python",
   "name": "python3"
  },
  "language_info": {
   "codemirror_mode": {
    "name": "ipython",
    "version": 3
   },
   "file_extension": ".py",
   "mimetype": "text/x-python",
   "name": "python",
   "nbconvert_exporter": "python",
   "pygments_lexer": "ipython3",
   "version": "3.7.6"
  },
  "toc": {
   "base_numbering": 1,
   "nav_menu": {},
   "number_sections": true,
   "sideBar": true,
   "skip_h1_title": false,
   "title_cell": "Table of Contents",
   "title_sidebar": "Contents",
   "toc_cell": false,
   "toc_position": {},
   "toc_section_display": true,
   "toc_window_display": false
  }
 },
 "nbformat": 4,
 "nbformat_minor": 2
}

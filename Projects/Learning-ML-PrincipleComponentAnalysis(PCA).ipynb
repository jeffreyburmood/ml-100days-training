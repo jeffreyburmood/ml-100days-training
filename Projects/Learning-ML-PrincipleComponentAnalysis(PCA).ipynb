{
 "cells": [
  {
   "cell_type": "markdown",
   "metadata": {},
   "source": [
    "# Principle Component Analysis (PCA)"
   ]
  },
  {
   "cell_type": "markdown",
   "metadata": {},
   "source": [
    "## Overview\n",
    "Principle component Analysis (PCA) is a form of predictor transformation known as data reduction. In datasets with large data dimensionality, that is, a large number of independent predictor variables or features, PCA can dramatically speed up model analysis by reducing the number of features, or dimensionality, used in the analysis. PCA performs this bit of magic by the application of some clever linear algebra to project the entire dataset onto a different subspace using the vector components that produce the greatest amount of information. A more detailed description of the math involved includes discussions of eigenvalues, eigenvectors (for mapping), and Singular Vector Decomposition (SVD) in order to maximize the explained variance (information). For a detailed explanation, here are a couple of good links:\n",
    "\n",
    "https://sebastianraschka.com/Articles/2015_pca_in_3_steps.html  \n",
    "  \n",
    "https://github.com/jakevdp/PythonDataScienceHandbook/blob/master/notebooks/05.09-Principal-Component-Analysis.ipynb \n",
    "  \n",
    "PCA is considered an unsupervised algorithm, and focuses on the relationship between the x and y variables, not on trying to predict the y values from the x values. Hence, after the application of the PCA transformation, a model selection and fit activity is still required to derive a predictor model solution.  \n",
    "  \n",
    "Even though PCA is fundamentally a dimensionality reduction algorithm, it can also be useful as a tool for visualization, for noise filtering, for feature extraction and engineering, and much more. We will focus on understanding how to use PCA for dimensionality reduction.  \n",
    "  \n",
    "We will be using sci-kit learn's PCA implementation so here's a link for reference:  \n",
    "  \n",
    "https://scikit-learn.org/stable/modules/generated/sklearn.decomposition.PCA.html  \n"
   ]
  },
  {
   "cell_type": "markdown",
   "metadata": {},
   "source": [
    "## Importing the libraries\n"
   ]
  },
  {
   "cell_type": "code",
   "execution_count": 19,
   "metadata": {},
   "outputs": [],
   "source": [
    "import pandas as pd\n",
    "import numpy as np\n",
    "import matplotlib.pyplot as plt\n",
    "from sklearn.decomposition import PCA"
   ]
  },
  {
   "cell_type": "markdown",
   "metadata": {},
   "source": [
    "## Importing the data set"
   ]
  },
  {
   "cell_type": "code",
   "execution_count": 20,
   "metadata": {},
   "outputs": [
    {
     "name": "stdout",
     "output_type": "stream",
     "text": [
      "   R&D Spend  Administration  Marketing Spend       State     Profit\n",
      "0  165349.20       136897.80        471784.10    New York  192261.83\n",
      "1  162597.70       151377.59        443898.53  California  191792.06\n",
      "2  153441.51       101145.55        407934.54     Florida  191050.39\n",
      "<class 'pandas.core.frame.DataFrame'>\n",
      "RangeIndex: 50 entries, 0 to 49\n",
      "Data columns (total 5 columns):\n",
      "R&D Spend          50 non-null float64\n",
      "Administration     50 non-null float64\n",
      "Marketing Spend    50 non-null float64\n",
      "State              50 non-null object\n",
      "Profit             50 non-null float64\n",
      "dtypes: float64(4), object(1)\n",
      "memory usage: 2.0+ KB\n",
      "None\n",
      "x values look like  [[165349.2  136897.8  471784.1 ]\n",
      " [162597.7  151377.59 443898.53]\n",
      " [153441.51 101145.55 407934.54]]\n",
      "y values look like  [192261.83 191792.06 191050.39]\n"
     ]
    }
   ],
   "source": [
    "# we'll use the same data set as used in the Day Three Multiple Linear regression code where we'll use PCA to see if\n",
    "# we can identify the predictor variables that provide the largest amount of information for use in fitting a\n",
    "# linear model\n",
    "# a reminder, this dataset looks at the R&D spending, administrative and marketing costs, and state of operation \n",
    "# for new startups (independent variables) and how much profit they made (dependent variable).\n",
    "#\n",
    "# Next, we'll bring in the dataset\n",
    "# Remember to put your specific path to where you downloaded the datasets\n",
    "dataset = pd.read_csv('data/50_Startups.csv')\n",
    "\n",
    "# Let's look at the dataset to see what it's made up of\n",
    "print (dataset.iloc[:3])\n",
    "\n",
    "# and look at the information about the data\n",
    "print(dataset.info())\n",
    "\n",
    "x = dataset.iloc[ :, 0:3].values\n",
    "y = dataset.iloc[ : , 4 ].values\n",
    "\n",
    "# To simplify things for now, we're going to remove the State column, which is a categorical variable. \n",
    "# In a real analysis we would perform a transformation on the categorical variable in order to get a numerical \n",
    "# representation like we've done in previous activities. For now we'll just remove it so we can focus on PCA.\n",
    "print (\"x values look like \", x[:3])\n",
    "\n",
    "# and the y vector contains only the data from the last column of the dataset\n",
    "print (\"y values look like \", y[:3])\n",
    "\n"
   ]
  },
  {
   "cell_type": "markdown",
   "metadata": {},
   "source": [
    "PCA is affected by scale so we'll need to do scaling and normalization like we usually do before applying PCA. "
   ]
  },
  {
   "cell_type": "code",
   "execution_count": 21,
   "metadata": {},
   "outputs": [
    {
     "name": "stdout",
     "output_type": "stream",
     "text": [
      "[[ 2.01641149  0.56075291  2.15394309]\n",
      " [ 1.95586034  1.08280658  1.9236004 ]\n",
      " [ 1.75436374 -0.72825703  1.62652767]\n",
      " [ 1.55478369 -0.09636463  1.42221024]]\n"
     ]
    }
   ],
   "source": [
    "from sklearn.preprocessing import StandardScaler\n",
    "x_std = StandardScaler().fit_transform(x)\n",
    "#\n",
    "print(x_std[0:4,:])"
   ]
  },
  {
   "cell_type": "code",
   "execution_count": 22,
   "metadata": {},
   "outputs": [
    {
     "name": "stdout",
     "output_type": "stream",
     "text": [
      "principle components =  [[ 0.71114538  0.19933739  0.67419349]\n",
      " [-0.03367692 -0.94820268  0.31587583]\n",
      " [-0.70223794  0.2473384   0.66759688]]\n",
      "explained variance for the components =  [1.79024143 1.04010702 0.23087604]\n",
      "principle component variance ratio =  [0.5848122  0.33976829 0.07541951]\n"
     ]
    }
   ],
   "source": [
    "# apply PCA to the independent variable set\n",
    "from sklearn.decomposition import PCA\n",
    "pca = PCA(n_components=3)\n",
    "pca.fit(x_std)\n",
    "#\n",
    "print(\"principle components = \", pca.components_)\n",
    "print(\"explained variance for the components = \", pca.explained_variance_)\n",
    "print(\"principle component variance ratio = \", pca.explained_variance_ratio_)"
   ]
  },
  {
   "cell_type": "markdown",
   "metadata": {},
   "source": [
    "For this dataset we generated three principle components to match the dimensionality of the independent variable set. The variance ratio shows that the three components account for 58% + 34% + 8% = 100% of the data variance. PCA is frequently used for dimensionality reduction and, as we can see from this example, if we just use the first two principle components, they can account for over 92% of the data variance. This is a somewhat trivial example but you can see how if your data set includes dozens, of even hundreds, of independent variables a PCA analysis can help determine the effect of decreasing the dimensionality in order to more easily model the data.\n",
    "Let's do another example that we can actualy visualize the principle components."
   ]
  },
  {
   "cell_type": "markdown",
   "metadata": {},
   "source": [
    "## Generate the Dataset"
   ]
  },
  {
   "cell_type": "code",
   "execution_count": 23,
   "metadata": {},
   "outputs": [
    {
     "data": {
      "image/png": "[encoded data removed]",
      "text/plain": [
       "<Figure size 432x288 with 1 Axes>"
      ]
     },
     "metadata": {
      "needs_background": "light"
     },
     "output_type": "display_data"
    }
   ],
   "source": [
    "data = np.random.RandomState(1)\n",
    "x2 = np.dot(data.rand(2,2), data.randn(2,200)).T\n",
    "plt.scatter(x2[:,0], x2[:,1])\n",
    "plt.axis('equal');"
   ]
  },
  {
   "cell_type": "markdown",
   "metadata": {},
   "source": [
    "In principal component analysis, this relationship is quantified by finding a list of the principal axes in the data, and using those axes to describe the dataset."
   ]
  },
  {
   "cell_type": "code",
   "execution_count": 24,
   "metadata": {},
   "outputs": [
    {
     "name": "stdout",
     "output_type": "stream",
     "text": [
      "principle components =  [[-0.94446029 -0.32862557]\n",
      " [-0.32862557  0.94446029]]\n",
      "explained variance for the components =  [0.7625315 0.0184779]\n",
      "principle component variance ratio =  [0.97634101 0.02365899]\n"
     ]
    }
   ],
   "source": [
    "pca2 = PCA(n_components=2)\n",
    "pca2.fit(x2)\n",
    "#\n",
    "print(\"principle components = \", pca2.components_)\n",
    "print(\"explained variance for the components = \", pca2.explained_variance_)\n",
    "print(\"principle component variance ratio = \", pca2.explained_variance_ratio_)"
   ]
  },
  {
   "cell_type": "markdown",
   "metadata": {},
   "source": [
    "## Visual Analysis"
   ]
  },
  {
   "cell_type": "code",
   "execution_count": 25,
   "metadata": {},
   "outputs": [
    {
     "data": {
      "image/png": "[encoded data removed]",
      "text/plain": [
       "<Figure size 432x288 with 1 Axes>"
      ]
     },
     "metadata": {
      "needs_background": "light"
     },
     "output_type": "display_data"
    }
   ],
   "source": [
    "def draw_vector(v0, v1, ax=None):\n",
    "    ax = ax or plt.gca()\n",
    "    arrowprops=dict(arrowstyle='->',\n",
    "                    linewidth=2,\n",
    "                    shrinkA=0, shrinkB=0)\n",
    "    ax.annotate('', v1, v0, arrowprops=arrowprops)\n",
    "\n",
    "# plot data\n",
    "plt.scatter(x2[:, 0], x2[:, 1], alpha=0.2)\n",
    "for length, vector in zip(pca2.explained_variance_, pca2.components_):\n",
    "    v = vector * 3 * np.sqrt(length)\n",
    "    draw_vector(pca2.mean_, pca2.mean_ + v)\n",
    "plt.axis('equal');\n",
    "\n",
    "# These vectors represent the principal axes of the data, and the length of the vector is an indication \n",
    "# of how \"important\" that axis is in describing the distribution of the data—more precisely, it is a measure \n",
    "# of the variance of the data when projected onto that axis. The projection of each data point onto the principal \n",
    "# axes are the \"principal components\" of the data."
   ]
  },
  {
   "cell_type": "markdown",
   "metadata": {},
   "source": [
    "## Visualizing Dimensionality Reduction"
   ]
  },
  {
   "cell_type": "code",
   "execution_count": 26,
   "metadata": {},
   "outputs": [
    {
     "name": "stdout",
     "output_type": "stream",
     "text": [
      "original shape =  (200, 2)\n",
      "transformed shape =  (200, 1)\n"
     ]
    }
   ],
   "source": [
    "pca = PCA(n_components=1)\n",
    "pca.fit(x2)\n",
    "x_pca = pca.transform(x2)\n",
    "print(\"original shape = \", x2.shape)\n",
    "print(\"transformed shape = \", x_pca.shape)"
   ]
  },
  {
   "cell_type": "markdown",
   "metadata": {},
   "source": [
    "The transformed data has been reduced to a single dimension. To understand the effect of this dimensionality reduction, we can perform the inverse transform of this reduced data and plot it along with the original data:"
   ]
  },
  {
   "cell_type": "code",
   "execution_count": 27,
   "metadata": {},
   "outputs": [
    {
     "data": {
      "image/png": "[encoded data removed]",
      "text/plain": [
       "<Figure size 432x288 with 1 Axes>"
      ]
     },
     "metadata": {
      "needs_background": "light"
     },
     "output_type": "display_data"
    }
   ],
   "source": [
    "x_new = pca.inverse_transform(x_pca)\n",
    "plt.scatter(x2[:, 0], x2[:, 1], alpha=0.2)\n",
    "plt.scatter(x_new[:, 0], x_new[:, 1], alpha=0.8)\n",
    "plt.axis('equal');"
   ]
  },
  {
   "cell_type": "markdown",
   "metadata": {},
   "source": [
    "The blue points are the original data, while the orange points are the projected version. This makes clear what a PCA dimensionality reduction means: the information along the least important principal axis or axes is removed, leaving only the component(s) of the data with the highest variance. The fraction of variance that is cut out (proportional to the spread of points about the line formed in this figure) is roughly a measure of how much \"information\" is discarded in this reduction of dimensionality.\n",
    "\n",
    "This reduced-dimension dataset is in some senses \"good enough\" to encode the most important relationships between the points: despite reducing the dimension of the data by 50%, the overall relationship between the data points are mostly preserved."
   ]
  },
  {
   "cell_type": "code",
   "execution_count": null,
   "metadata": {},
   "outputs": [],
   "source": []
  }
 ],
 "metadata": {
  "kernelspec": {
   "display_name": "Python 3",
   "language": "python",
   "name": "python3"
  },
  "language_info": {
   "codemirror_mode": {
    "name": "ipython",
    "version": 3
   },
   "file_extension": ".py",
   "mimetype": "text/x-python",
   "name": "python",
   "nbconvert_exporter": "python",
   "pygments_lexer": "ipython3",
   "version": "3.7.2"
  }
 },
 "nbformat": 4,
 "nbformat_minor": 2
}

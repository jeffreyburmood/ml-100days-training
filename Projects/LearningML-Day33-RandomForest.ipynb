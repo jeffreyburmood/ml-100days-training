{
 "cells": [
  {
   "cell_type": "markdown",
   "metadata": {},
   "source": [
    "# Random Forest\n",
    "Today we're going to look at a more powerful method for classification and regression call Random Forest. Random Forest is a supervised learning method in a class of models known as ensemble models. An ensemble model use an aggregation of models in order to try and achieve better performance. \n",
    "\n",
    "The Random Forest model is a homogeneous ensemble model in that random forest aggregates only one kind of model - decision trees. We'll dive deeper into ensemble models when we have completed our tour of basic ML models and random forest, though an ensemble model in it's own right, is frequently used in higher level heterogeneous ensemble models.\n",
    "\n",
    "Avik has a good infographic on Random Forest that you can review at:\n",
    "\n",
    "https://github.com/Avik-Jain/100-Days-Of-ML-Code/blob/master/Code/Day%2034%20Random_Forest.md"
   ]
  },
  {
   "cell_type": "markdown",
   "metadata": {},
   "source": [
    "## Importing the libraries"
   ]
  },
  {
   "cell_type": "code",
   "execution_count": 2,
   "metadata": {},
   "outputs": [],
   "source": [
    "import numpy as np\n",
    "import pandas as pd\n",
    "import matplotlib.pyplot as plt"
   ]
  },
  {
   "cell_type": "markdown",
   "metadata": {},
   "source": [
    "## Importing the dataset"
   ]
  },
  {
   "cell_type": "code",
   "execution_count": 3,
   "metadata": {},
   "outputs": [
    {
     "name": "stdout",
     "output_type": "stream",
     "text": [
      "    User ID  Gender  Age  EstimatedSalary  Purchased\n",
      "0  15624510    Male   19            19000          0\n",
      "1  15810944    Male   35            20000          0\n",
      "2  15668575  Female   26            43000          0\n",
      "3  15603246  Female   27            57000          0\n",
      "4  15804002    Male   19            76000          0\n",
      "shape of the full dataset looks like  (400, 5)\n",
      "x looks like:  [[   19 19000]\n",
      " [   35 20000]\n",
      " [   26 43000]]\n",
      "y looks like:  [0 0 0]\n"
     ]
    }
   ],
   "source": [
    "# read in the dataset, remember to modify the path name for your environment\n",
    "#\n",
    "# This dataset contains information on users in a social network. The data includes a user id, gender type,\n",
    "# the age, and the estimated salary. A car company has just launched their brand new luxury SUV and they\n",
    "# are trying to see which of these users of the social network are predicted to buy this brand new SUV.\n",
    "# The last column indicates if the user bought this SUV (dependent variable). We are going to build a model \n",
    "# that is going to predict if a user is going to buy or not the SUV based on the age and the estimated salary\n",
    "# independent variables. \n",
    "#\n",
    "dataset = pd.read_csv('data/Social_Network_Ads.csv')\n",
    "# let's take a quick look at the data attributes\n",
    "print(dataset.head())\n",
    "# set up the x using only the Age and EstimatedSalary attribute values\n",
    "x = dataset.iloc[:,[2,3]].values\n",
    "# set up the y with the Purchased attribute values\n",
    "y = dataset.iloc[:, 4].values\n",
    "# let's take a quick look at each data frame\n",
    "print('shape of the full dataset looks like ', dataset.shape)\n",
    "print('x looks like: ', x[0:3])\n",
    "print('y looks like: ', y[0:3])"
   ]
  },
  {
   "cell_type": "markdown",
   "metadata": {},
   "source": [
    "## Splitting the dataset into Training set and Test set"
   ]
  },
  {
   "cell_type": "code",
   "execution_count": 4,
   "metadata": {},
   "outputs": [],
   "source": [
    "# we're going to use our usual 80/20 training/test data split to train the algorithm and to test it.\n",
    "from sklearn.model_selection import train_test_split\n",
    "x_train, x_test, y_train, y_test = train_test_split(x, y, test_size=0.20, random_state=0)\n"
   ]
  },
  {
   "cell_type": "markdown",
   "metadata": {},
   "source": [
    "## Feature Scaling / Normalization"
   ]
  },
  {
   "cell_type": "code",
   "execution_count": 5,
   "metadata": {},
   "outputs": [
    {
     "name": "stdout",
     "output_type": "stream",
     "text": [
      "Here is the scaled training data  [[ 1.92295008  2.14601566]\n",
      " [ 2.02016082  0.3787193 ]\n",
      " [-1.3822153  -0.4324987 ]\n",
      " [-1.18779381 -1.01194013]\n",
      " [ 1.92295008 -0.92502392]\n",
      " [ 0.36757813  0.29180308]\n",
      " [ 0.17315664  0.14694273]\n",
      " [ 2.02016082  1.74040666]\n",
      " [ 0.75642112 -0.83810771]\n",
      " [ 0.27036739 -0.28763835]]\n",
      "Here is the scaled test data  [[ 1.92295008  2.14601566]\n",
      " [ 2.02016082  0.3787193 ]\n",
      " [-1.3822153  -0.4324987 ]\n",
      " [-1.18779381 -1.01194013]\n",
      " [ 1.92295008 -0.92502392]\n",
      " [ 0.36757813  0.29180308]\n",
      " [ 0.17315664  0.14694273]\n",
      " [ 2.02016082  1.74040666]\n",
      " [ 0.75642112 -0.83810771]\n",
      " [ 0.27036739 -0.28763835]]\n"
     ]
    },
    {
     "name": "stderr",
     "output_type": "stream",
     "text": [
      "/opt/local/Library/Frameworks/Python.framework/Versions/3.7/lib/python3.7/site-packages/sklearn/utils/validation.py:595: DataConversionWarning: Data with input dtype int64 was converted to float64 by StandardScaler.\n",
      "  warnings.warn(msg, DataConversionWarning)\n",
      "/opt/local/Library/Frameworks/Python.framework/Versions/3.7/lib/python3.7/site-packages/sklearn/utils/validation.py:595: DataConversionWarning: Data with input dtype int64 was converted to float64 by StandardScaler.\n",
      "  warnings.warn(msg, DataConversionWarning)\n",
      "/opt/local/Library/Frameworks/Python.framework/Versions/3.7/lib/python3.7/site-packages/sklearn/utils/validation.py:595: DataConversionWarning: Data with input dtype int64 was converted to float64 by StandardScaler.\n",
      "  warnings.warn(msg, DataConversionWarning)\n"
     ]
    }
   ],
   "source": [
    "# as usual, we wil normalize the data for the x and y data sets before we build and fit our model\n",
    "from sklearn.preprocessing import StandardScaler\n",
    "sc = StandardScaler()\n",
    "# this will analyze the features and fit a normal mean and standard distribution and then transform the values\n",
    "x_train_norm = sc.fit_transform(x_train) \n",
    "# using the previous fitted normalization this will transform the test set\n",
    "x_test_norm = sc.transform(x_test)\n",
    "\n",
    "print('Here is the scaled training data ', x_train_norm[:10])\n",
    "print('Here is the scaled test data ', x_train_norm[:10])"
   ]
  },
  {
   "cell_type": "markdown",
   "metadata": {},
   "source": [
    "## Fitting a Random Forest model to the Training set\n",
    "Details regarding the Random Froest classifier can be found at:\n",
    "\n",
    "https://scikit-learn.org/stable/modules/generated/sklearn.ensemble.RandomForestClassifier.html"
   ]
  },
  {
   "cell_type": "code",
   "execution_count": 6,
   "metadata": {},
   "outputs": [
    {
     "name": "stdout",
     "output_type": "stream",
     "text": [
      "[0.49089763 0.50910237]\n",
      "The number of features =  2\n",
      "The number of classes =  2\n",
      "The number of outputs =  1\n"
     ]
    }
   ],
   "source": [
    "from sklearn.ensemble import RandomForestClassifier\n",
    "# here we configure the classifier, the default for the classifier is 100 decision trees in the ensemble so\n",
    "# we'll start with that. We will not limit the depth of the trees initially.\n",
    "classifier = RandomForestClassifier(n_estimators = 100, criterion = 'entropy', random_state = 0)\n",
    "# now we'll train the model with the training set\n",
    "classifier.fit(x_train, y_train)\n",
    "\n",
    "print(classifier.feature_importances_)\n",
    "print('The number of features = ', classifier.n_features_)\n",
    "print('The number of classes = ', classifier.n_classes_)\n",
    "print('The number of outputs = ', classifier.n_outputs_)"
   ]
  },
  {
   "cell_type": "markdown",
   "metadata": {},
   "source": [
    "## Predicting the Test set results"
   ]
  },
  {
   "cell_type": "code",
   "execution_count": 7,
   "metadata": {},
   "outputs": [
    {
     "name": "stdout",
     "output_type": "stream",
     "text": [
      "The prediction looks like  [0 0 0 0 0 0 0 1 0 0 0 0 0 0 0 1 1 0 1 0 0 1 0 1 0 0 0 0 0 0 0 0 1 0 0 0 0\n",
      " 0 0 1 0 0 0 0 1 0 0 1 0 1 1 0 0 0 1 1 0 0 1 0 0 1 0 1 0 1 0 0 0 1 1 0 0 1\n",
      " 0 0 0 0 1 1]\n"
     ]
    }
   ],
   "source": [
    "# generate a prediction set for the x test set based on the fitted decision tree model\n",
    "y_pred = classifier.predict(x_test)\n",
    "\n",
    "print('The prediction looks like ', y_pred)"
   ]
  },
  {
   "cell_type": "code",
   "execution_count": 8,
   "metadata": {},
   "outputs": [
    {
     "name": "stdout",
     "output_type": "stream",
     "text": [
      "[[55  3]\n",
      " [ 2 20]]\n",
      "              precision    recall  f1-score   support\n",
      "\n",
      "           0       0.96      0.95      0.96        58\n",
      "           1       0.87      0.91      0.89        22\n",
      "\n",
      "   micro avg       0.94      0.94      0.94        80\n",
      "   macro avg       0.92      0.93      0.92        80\n",
      "weighted avg       0.94      0.94      0.94        80\n",
      "\n"
     ]
    },
    {
     "data": {
      "image/png": "[encoded data removed]",
      "text/plain": [
       "<Figure size 432x288 with 1 Axes>"
      ]
     },
     "metadata": {
      "needs_background": "light"
     },
     "output_type": "display_data"
    }
   ],
   "source": [
    "# let's visit our old friend the confusion matrix to see how well our model performs\n",
    "# by comparing our y test data against our y predicted data\n",
    "from sklearn.metrics import confusion_matrix, classification_report\n",
    "cm = confusion_matrix(y_test, y_pred)\n",
    "\n",
    "print(cm)\n",
    "print(classification_report(y_test, y_pred))\n",
    "\n",
    "# let's plot the confusion matrix\n",
    "# Thanks to the following site for excellent plot code for confusion matrices: \n",
    "# http://www.tarekatwan.com/index.php/2017/12/how-to-plot-a-confusion-matrix-in-python/\n",
    "#\n",
    "plt.clf()\n",
    "plt.imshow(cm, interpolation='nearest', cmap=plt.cm.Wistia)\n",
    "classNames = ['Negative','Positive']\n",
    "plt.title('Confusion Matrix - Test Data')\n",
    "plt.ylabel('True label')\n",
    "plt.xlabel('Predicted label')\n",
    "tick_marks = np.arange(len(classNames))\n",
    "plt.xticks(tick_marks, classNames, rotation=45)\n",
    "plt.yticks(tick_marks, classNames)\n",
    "s = [['TN','FP'], ['FN', 'TP']]\n",
    "for i in range(2):\n",
    "    for j in range(2):\n",
    "        plt.text(j,i, str(s[i][j])+\" = \"+str(cm[i][j]))\n",
    "plt.show()\n"
   ]
  },
  {
   "cell_type": "markdown",
   "metadata": {},
   "source": [
    "## Comparing the Results\n",
    "At this point it's interesting to compare the model prediction results between our Decision Tree model and our Random Forest model since they used the same dataset.\n",
    "\n",
    "The confusion matrix for our Decision Tree model provided a matrix of [[53, 5][3, 19]]. Just as a reminder, the confusion matrix is read as follows: [[True Negative, False Positive][False Negative, True Positive]]. \n",
    "\n",
    "The confusion matric for our Random Forest model provided a matric of [[55, 3][2, 20]]. This is an improvement in prediction accuracy for both purchases and non-purchases.\n"
   ]
  },
  {
   "cell_type": "code",
   "execution_count": 11,
   "metadata": {},
   "outputs": [
    {
     "name": "stdout",
     "output_type": "stream",
     "text": [
      "[0.48802866 0.51197134]\n",
      "The number of features =  2\n",
      "The number of classes =  2\n",
      "The number of outputs =  1\n",
      "[[54  4]\n",
      " [ 2 20]]\n",
      "              precision    recall  f1-score   support\n",
      "\n",
      "           0       0.96      0.93      0.95        58\n",
      "           1       0.83      0.91      0.87        22\n",
      "\n",
      "   micro avg       0.93      0.93      0.93        80\n",
      "   macro avg       0.90      0.92      0.91        80\n",
      "weighted avg       0.93      0.93      0.93        80\n",
      "\n"
     ]
    }
   ],
   "source": [
    "# so a Random Forest mode with 100 decision trees gave us better prediction accuracy for both purchase predictions \n",
    "# and non-purchase predictions. An interesting question is can we improve the prediction accuracy by increasing\n",
    "# the number of decision trees used in our random forest ensemble model?\n",
    "\n",
    "# Let's try again with a classifier parameter setting of 500 trees\n",
    "# here we configure the classifier, the default for the classifier is 500 decision trees in the ensemble so\n",
    "# we'll start with that. We will not limit the depth of the trees initially.\n",
    "classifier_500 = RandomForestClassifier(n_estimators = 500, criterion = 'entropy', random_state = 0)\n",
    "# now we'll train the model with the training set\n",
    "classifier_500.fit(x_train, y_train)\n",
    "\n",
    "print(classifier_500.feature_importances_)\n",
    "print('The number of features = ', classifier_500.n_features_)\n",
    "print('The number of classes = ', classifier_500.n_classes_)\n",
    "print('The number of outputs = ', classifier_500.n_outputs_)\n",
    "\n",
    "# now run the prediction\n",
    "y_pred_500 = classifier_500.predict(x_test)\n",
    "\n",
    "# now build the confusion matrix and print the results\n",
    "cm = confusion_matrix(y_test, y_pred_500)\n",
    "\n",
    "print(cm)\n",
    "print(classification_report(y_test, y_pred_500))\n",
    "\n",
    "# we'll see below that the results are slightly better than our decision tree model but slightly worse than our\n",
    "# random forest model with 100 decision trees. The 500 decision tree version had worse performance at predicting\n",
    "# non-purchases but the same performance at predicting purchases.\n",
    "\n",
    "# we'll learn in later activities how we can perform model tuning to identify the optimal parameters for models\n",
    "# to get the best performance."
   ]
  }
 ],
 "metadata": {
  "kernelspec": {
   "display_name": "Python 3",
   "language": "python",
   "name": "python3"
  },
  "language_info": {
   "codemirror_mode": {
    "name": "ipython",
    "version": 3
   },
   "file_extension": ".py",
   "mimetype": "text/x-python",
   "name": "python",
   "nbconvert_exporter": "python",
   "pygments_lexer": "ipython3",
   "version": "3.7.2"
  }
 },
 "nbformat": 4,
 "nbformat_minor": 2
}

{
 "cells": [
  {
   "cell_type": "code",
   "execution_count": 1,
   "metadata": {},
   "outputs": [],
   "source": [
    "# LearningML - Day Five\n",
    "# (note: I'm departing from the day numbering used in 100 Days of ML Learning since Avik uses some days to\n",
    "#  to do literature reading and study, I'm going to continue to focus on code examples)\n",
    "\n",
    "# Today's topic is K Nearest Neighbors (KNN) which is another classification algorithm. However, unlike\n",
    "# Logistic Regression, which was a classification algorithm as well and is used to determine if a dependent\n",
    "# variable is part of some group (yes or no), KNN can be used to determine class membership from across two or more\n",
    "# classes. Both algorithms produce a discrete value.\n",
    "\n",
    "# Another important difference is KNN is non-parametric, that is, it does not make any assumptions about the underlying \n",
    "# data distribution though, the algorithm is sensitive to the \"structure\" of the data since distance\n",
    "# calculations are being made, usually using Euclidian distances (physical/geometric distance). Also KNN doesn't \n",
    "# actually construct or learn a model, it takes the data values in that instant and determines the relationships between\n",
    "# the dependent variable and the independent variable values based on the current situation. This means new data can\n",
    "# easily be added because there is no training needed.\n",
    "\n",
    "# set up the libraries to be used\n",
    "import numpy as np\n",
    "import matplotlib.pyplot as plt\n",
    "import pandas as pd\n"
   ]
  },
  {
   "cell_type": "code",
   "execution_count": 2,
   "metadata": {},
   "outputs": [
    {
     "name": "stdout",
     "output_type": "stream",
     "text": [
      "x values look like  [[    27  84000]\n",
      " [    32 150000]\n",
      " [    25  33000]]\n",
      "y values look like  [0 1 0]\n"
     ]
    }
   ],
   "source": [
    "# import the dataset\n",
    "\n",
    "dataset = pd.read_csv('data/Social_Network_Ads.csv')\n",
    "x = dataset.iloc[:, [2, 3]].values\n",
    "y = dataset.iloc[:, 4].values\n",
    "\n",
    "# the x data frame contains only the age and salary data\n",
    "print('x values look like ', x[6:9])\n",
    "\n",
    "# the y vector contains the binary data on whether the user bought the SUV or not\n",
    "print('y values look like ', y[6:9])\n",
    "\n"
   ]
  },
  {
   "cell_type": "code",
   "execution_count": 30,
   "metadata": {},
   "outputs": [
    {
     "name": "stdout",
     "output_type": "stream",
     "text": [
      "The size/shape of our training set is  (320, 2) (320,)\n",
      "The size/shape of our test set is  (80, 2) (80,)\n",
      "[[    30  87000]\n",
      " [    38  50000]\n",
      " [    35  75000]\n",
      " [    30  79000]\n",
      " [    35  50000]\n",
      " [    27  20000]\n",
      " [    31  15000]\n",
      " [    36 144000]\n",
      " [    18  68000]\n",
      " [    47  43000]]\n"
     ]
    }
   ],
   "source": [
    "# as usual, we split our dataset into a training set for the model, and a test set\n",
    "# I like to use an 80/20 split\n",
    "#\n",
    "# NOTE: In the associated code in github, the train_test_split library is retrieved from the sklearn.cross_validation\n",
    "# package but in sklean 0.20.x, the library is now located in the model_selection package\n",
    "#\n",
    "from sklearn.model_selection import train_test_split\n",
    "x_train, x_test, y_train, y_test = train_test_split(x, y, test_size = 0.20, random_state = 0)\n",
    "\n",
    "print ('The size/shape of our training set is ', x_train.shape, y_train.shape)\n",
    "print ('The size/shape of our test set is ',x_test.shape, y_test.shape)\n",
    "\n",
    "print (x_test[:10])"
   ]
  },
  {
   "cell_type": "code",
   "execution_count": 31,
   "metadata": {},
   "outputs": [
    {
     "name": "stdout",
     "output_type": "stream",
     "text": [
      "Here is the scaled training data  [[ 1.92295008  2.14601566]\n",
      " [ 2.02016082  0.3787193 ]\n",
      " [-1.3822153  -0.4324987 ]\n",
      " [-1.18779381 -1.01194013]\n",
      " [ 1.92295008 -0.92502392]\n",
      " [ 0.36757813  0.29180308]\n",
      " [ 0.17315664  0.14694273]\n",
      " [ 2.02016082  1.74040666]\n",
      " [ 0.75642112 -0.83810771]\n",
      " [ 0.27036739 -0.28763835]]\n",
      "Here is the scaled test data  [[ 1.92295008  2.14601566]\n",
      " [ 2.02016082  0.3787193 ]\n",
      " [-1.3822153  -0.4324987 ]\n",
      " [-1.18779381 -1.01194013]\n",
      " [ 1.92295008 -0.92502392]\n",
      " [ 0.36757813  0.29180308]\n",
      " [ 0.17315664  0.14694273]\n",
      " [ 2.02016082  1.74040666]\n",
      " [ 0.75642112 -0.83810771]\n",
      " [ 0.27036739 -0.28763835]]\n"
     ]
    },
    {
     "name": "stderr",
     "output_type": "stream",
     "text": [
      "/opt/local/Library/Frameworks/Python.framework/Versions/3.7/lib/python3.7/site-packages/sklearn/utils/validation.py:595: DataConversionWarning: Data with input dtype int64 was converted to float64 by StandardScaler.\n",
      "  warnings.warn(msg, DataConversionWarning)\n",
      "/opt/local/Library/Frameworks/Python.framework/Versions/3.7/lib/python3.7/site-packages/sklearn/utils/validation.py:595: DataConversionWarning: Data with input dtype int64 was converted to float64 by StandardScaler.\n",
      "  warnings.warn(msg, DataConversionWarning)\n",
      "/opt/local/Library/Frameworks/Python.framework/Versions/3.7/lib/python3.7/site-packages/sklearn/utils/validation.py:595: DataConversionWarning: Data with input dtype int64 was converted to float64 by StandardScaler.\n",
      "  warnings.warn(msg, DataConversionWarning)\n"
     ]
    }
   ],
   "source": [
    "# again, we're going to do standard scaling on our dataset, especially since the algorithm is calculating distances\n",
    "# between data points. By scaling, we normalize the range of values of the raw data so that the distance calculations\n",
    "# are not unduely influenced by data values with wide ranges.\n",
    "\n",
    "from sklearn.preprocessing import StandardScaler\n",
    "sc = StandardScaler()\n",
    "x_train_norm = sc.fit_transform(x_train)\n",
    "x_test_norm = sc.transform(x_test)\n",
    "\n",
    "print('Here is the scaled training data ', x_train_norm[:10])\n",
    "print('Here is the scaled test data ', x_train_norm[:10])"
   ]
  },
  {
   "cell_type": "code",
   "execution_count": 32,
   "metadata": {},
   "outputs": [
    {
     "data": {
      "text/plain": [
       "KNeighborsClassifier(algorithm='auto', leaf_size=30, metric='minkowski',\n",
       "           metric_params=None, n_jobs=None, n_neighbors=5, p=2,\n",
       "           weights='uniform')"
      ]
     },
     "execution_count": 32,
     "metadata": {},
     "output_type": "execute_result"
    }
   ],
   "source": [
    "# now we use the KNN classifier to fit to the training data set\n",
    "\n",
    "from sklearn.neighbors import KNeighborsClassifier\n",
    "classifier = KNeighborsClassifier(n_neighbors = 5) # default metric is minkowski with p=2\n",
    "classifier.fit(x_train, y_train)\n"
   ]
  },
  {
   "cell_type": "code",
   "execution_count": 33,
   "metadata": {},
   "outputs": [
    {
     "data": {
      "text/plain": [
       "array([0, 0, 0, 0, 0, 0, 0, 1, 0, 0, 0, 0, 0, 1, 0, 1, 0, 0, 1, 0, 0, 1,\n",
       "       0, 1, 0, 1, 0, 0, 0, 0, 1, 0, 0, 0, 0, 0, 0, 0, 0, 0, 1, 0, 0, 0,\n",
       "       1, 0, 0, 1, 0, 0, 1, 1, 0, 0, 1, 0, 0, 0, 1, 0, 0, 0, 0, 1, 1, 0,\n",
       "       0, 0, 0, 1, 1, 0, 0, 1, 0, 0, 0, 0, 1, 1])"
      ]
     },
     "execution_count": 33,
     "metadata": {},
     "output_type": "execute_result"
    }
   ],
   "source": [
    "# now we generate a prediction using the test set\n",
    "\n",
    "y_pred = classifier.predict(x_test)\n",
    "\n",
    "y_pred"
   ]
  },
  {
   "cell_type": "code",
   "execution_count": 34,
   "metadata": {},
   "outputs": [
    {
     "name": "stdout",
     "output_type": "stream",
     "text": [
      "[[51  7]\n",
      " [ 7 15]]\n",
      "              precision    recall  f1-score   support\n",
      "\n",
      "           0       0.88      0.88      0.88        58\n",
      "           1       0.68      0.68      0.68        22\n",
      "\n",
      "   micro avg       0.82      0.82      0.82        80\n",
      "   macro avg       0.78      0.78      0.78        80\n",
      "weighted avg       0.82      0.82      0.82        80\n",
      "\n"
     ]
    }
   ],
   "source": [
    "# let's review the prediction accuracy using a confusion matrix\n",
    "\n",
    "from sklearn.metrics import confusion_matrix,classification_report\n",
    "cm = confusion_matrix(y_test, y_pred)\n",
    "\n",
    "print(cm)\n",
    "print(classification_report(y_test, y_pred))\n"
   ]
  },
  {
   "cell_type": "code",
   "execution_count": 35,
   "metadata": {},
   "outputs": [
    {
     "data": {
      "image/png": "[encoded data removed]",
      "text/plain": [
       "<Figure size 432x288 with 1 Axes>"
      ]
     },
     "metadata": {
      "needs_background": "light"
     },
     "output_type": "display_data"
    }
   ],
   "source": [
    "# so, based on the classification report, our KNN classifier is 88% accurate in identifying true positives \n",
    "# and true negatives. That's not very good. Here's a better view of the confusion matrix\n",
    "# \n",
    "# Thanks to the following site for excellent plot code for confusion matrices: \n",
    "# http://www.tarekatwan.com/index.php/2017/12/how-to-plot-a-confusion-matrix-in-python/\n",
    "#\n",
    "plt.clf()\n",
    "plt.imshow(cm, interpolation='nearest', cmap=plt.cm.Wistia)\n",
    "classNames = ['Negative','Positive']\n",
    "plt.title('Confusion Matrix - Test Data')\n",
    "plt.ylabel('True label')\n",
    "plt.xlabel('Predicted label')\n",
    "tick_marks = np.arange(len(classNames))\n",
    "plt.xticks(tick_marks, classNames, rotation=45)\n",
    "plt.yticks(tick_marks, classNames)\n",
    "s = [['TN','FP'], ['FN', 'TP']]\n",
    "for i in range(2):\n",
    "    for j in range(2):\n",
    "        plt.text(j,i, str(s[i][j])+\" = \"+str(cm[i][j]))\n",
    "plt.show()\n",
    "\n"
   ]
  },
  {
   "cell_type": "code",
   "execution_count": 36,
   "metadata": {},
   "outputs": [
    {
     "data": {
      "text/plain": [
       "Text(0, 0.5, 'Mean Error')"
      ]
     },
     "execution_count": 36,
     "metadata": {},
     "output_type": "execute_result"
    },
    {
     "data": {
      "image/png": "[encoded data removed]",
      "text/plain": [
       "<Figure size 864x432 with 1 Axes>"
      ]
     },
     "metadata": {
      "needs_background": "light"
     },
     "output_type": "display_data"
    }
   ],
   "source": [
    "# recall that in applying the KNN algorithm we selected a parameter \"n_neighbors\" somewhat randomly. \n",
    "# Let's compare the error rate of our classifier algorithm using different values of the parameter.\n",
    "#\n",
    "error = []\n",
    "\n",
    "# calculate the error rate for parameter value between 1 and 40\n",
    "for i in range(1,40):\n",
    "    knn = KNeighborsClassifier(n_neighbors=i)\n",
    "    knn.fit(x_train, y_train)\n",
    "    p = knn.predict(x_test)\n",
    "    error.append(np.mean(p != y_test))\n",
    "    \n",
    "# now plot the error rate versus the parameter value used in the KNN algorithm\n",
    "plt.figure(figsize=(12,6))\n",
    "plt.plot(range(1,40), error, color='red', linestyle='dashed', marker='o', markerfacecolor='blue', markersize=10)\n",
    "plt.title('Error Rate Parameter Value')\n",
    "plt.xlabel('Parameter Value')\n",
    "plt.ylabel('Mean Error')\n"
   ]
  },
  {
   "cell_type": "code",
   "execution_count": 37,
   "metadata": {},
   "outputs": [
    {
     "name": "stdout",
     "output_type": "stream",
     "text": [
      "[[56  2]\n",
      " [ 7 15]]\n",
      "              precision    recall  f1-score   support\n",
      "\n",
      "           0       0.89      0.97      0.93        58\n",
      "           1       0.88      0.68      0.77        22\n",
      "\n",
      "   micro avg       0.89      0.89      0.89        80\n",
      "   macro avg       0.89      0.82      0.85        80\n",
      "weighted avg       0.89      0.89      0.88        80\n",
      "\n"
     ]
    }
   ],
   "source": [
    "# according to our error rate analysis, a parameter value of 11 or 12 should provide us with much better results.\n",
    "# let's rerun our KNN algorithm using a parameter value of 12\n",
    "\n",
    "new_classifier = KNeighborsClassifier(n_neighbors = 12) # default metric is minkowski with p=2\n",
    "new_classifier.fit(x_train, y_train)\n",
    "\n",
    "new_y_pred = new_classifier.predict(x_test)\n",
    "\n",
    "new_cm = confusion_matrix(y_test, new_y_pred)\n",
    "\n",
    "print(new_cm)\n",
    "print(classification_report(y_test, new_y_pred))\n",
    "\n"
   ]
  },
  {
   "cell_type": "code",
   "execution_count": 38,
   "metadata": {},
   "outputs": [],
   "source": [
    "# our overall algorithm performance is better as reflected by the f1-score (closer to 1.0 the better). \n",
    "# if you'll recall, we used the same dataset for our analysis in DayThree with the Logistic Regression model.\n",
    "# reviewing the performance of that model, we had a f1-score of .94 with slightly better precision.\n",
    "# so, for our first example of comparing the performance of two different classification models where we're trying\n",
    "# to predict if someone is likely to purchase the SUV, that is, does the individual belong to the class of SUV \n",
    "# purchasers with high probability, we see the Logistic model will gives us slightly better prediction results \n",
    "# based on the data set we currently have available.\n"
   ]
  }
 ],
 "metadata": {
  "kernelspec": {
   "display_name": "Python 3",
   "language": "python",
   "name": "python3"
  },
  "language_info": {
   "codemirror_mode": {
    "name": "ipython",
    "version": 3
   },
   "file_extension": ".py",
   "mimetype": "text/x-python",
   "name": "python",
   "nbconvert_exporter": "python",
   "pygments_lexer": "ipython3",
   "version": "3.7.1"
  }
 },
 "nbformat": 4,
 "nbformat_minor": 2
}

{
 "cells": [
  {
   "cell_type": "markdown",
   "metadata": {},
   "source": [
    "# Support Vector Machine\n",
    "## Overview\n",
    "A Support Vector Machine (SVM) is a surpervised learning algorithm which can be used for both classification and regression, though the most common use of SVMs is for classification. Though SVMs use linear separation to form the classes, SVMs can provide non-linear solutions. This is due to the transformations that are applied on the dataset to project the data onto a higher dimensional field. Then, instead of using a line to separate data in a 2D field, the SVM can use a plane to separate the data in a 3D field. This transformation into a higher dimension continues until the data can be linearly separated using, hyperplanes. The transformation function is known as the kernel function. Frequently, the number of dimensions needed is based on the number of features in the dataset.  \n",
    "  \n",
    "The following code is based on Avik's 100 Days of ML.  \n",
    "Here's a link to Avik's SVM infographic:  \n",
    "https://github.com/Avik-Jain/100-Days-Of-ML-Code/blob/master/Info-graphs/Day%2012.jpg"
   ]
  },
  {
   "cell_type": "markdown",
   "metadata": {},
   "source": [
    "## Importing the libraries"
   ]
  },
  {
   "cell_type": "code",
   "execution_count": 2,
   "metadata": {},
   "outputs": [],
   "source": [
    "# import the usual libraries using the standard identifiers\n",
    "import numpy as np\n",
    "import pandas as pd\n",
    "import matplotlib.pyplot as plt"
   ]
  },
  {
   "cell_type": "markdown",
   "metadata": {},
   "source": [
    "## Importing the dataset"
   ]
  },
  {
   "cell_type": "code",
   "execution_count": 3,
   "metadata": {},
   "outputs": [
    {
     "name": "stdout",
     "output_type": "stream",
     "text": [
      "    User ID  Gender  Age  EstimatedSalary  Purchased\n",
      "0  15624510    Male   19            19000          0\n",
      "1  15810944    Male   35            20000          0\n",
      "2  15668575  Female   26            43000          0\n",
      "3  15603246  Female   27            57000          0\n",
      "4  15804002    Male   19            76000          0\n",
      "shape of the full dataset looks like  (400, 5)\n",
      "x looks like:  [[   19 19000]\n",
      " [   35 20000]\n",
      " [   26 43000]]\n",
      "y looks like:  [0 0 0]\n"
     ]
    }
   ],
   "source": [
    "# read in the dataset, remember to modify the path name for your environment\n",
    "#\n",
    "# This dataset contains information on users in a social network. The data includes a user id, gender type,\n",
    "# the age, and the estimated salary. A car company has just launched their brand new luxury SUV and they\n",
    "# are trying to see which of these users of the social network are predicted to buy this brand new SUV.\n",
    "# The last column indicates if the user bought this SUV (dependent variable). We are going to build a model \n",
    "# that is going to predict if a user is going to buy or not the SUV based on the age and the estimated salary\n",
    "# independent variables. \n",
    "#\n",
    "dataset = pd.read_csv('data/Social_Network_Ads.csv')\n",
    "# let's take a quick look at the data attributes\n",
    "print(dataset.head())\n",
    "# set up the x using only the Age and EstimatedSalary attribute values\n",
    "x = dataset.iloc[:,[2,3]].values\n",
    "# set up the y with the Purchased attribute values\n",
    "y = dataset.iloc[:, 4].values\n",
    "# let's take a quick look at each data frame\n",
    "print('shape of the full dataset looks like ', dataset.shape)\n",
    "print('x looks like: ', x[0:3])\n",
    "print('y looks like: ', y[0:3])"
   ]
  },
  {
   "cell_type": "markdown",
   "metadata": {},
   "source": [
    "## Splitting the dataset into the Training set and Test set"
   ]
  },
  {
   "cell_type": "code",
   "execution_count": 4,
   "metadata": {},
   "outputs": [],
   "source": [
    "# we're going to use our usual 80/20 training/test data split to train the algorithm and to test it.\n",
    "from sklearn.model_selection import train_test_split\n",
    "x_train, x_test, y_train, y_test = train_test_split(x, y, test_size=0.20, random_state=0)"
   ]
  },
  {
   "cell_type": "markdown",
   "metadata": {},
   "source": [
    "## Feature scaling / normalization"
   ]
  },
  {
   "cell_type": "code",
   "execution_count": 5,
   "metadata": {},
   "outputs": [
    {
     "name": "stdout",
     "output_type": "stream",
     "text": [
      "Here is the scaled training data  [[ 1.92295008  2.14601566]\n",
      " [ 2.02016082  0.3787193 ]\n",
      " [-1.3822153  -0.4324987 ]\n",
      " [-1.18779381 -1.01194013]\n",
      " [ 1.92295008 -0.92502392]\n",
      " [ 0.36757813  0.29180308]\n",
      " [ 0.17315664  0.14694273]\n",
      " [ 2.02016082  1.74040666]\n",
      " [ 0.75642112 -0.83810771]\n",
      " [ 0.27036739 -0.28763835]]\n",
      "Here is the scaled test data  [[ 1.92295008  2.14601566]\n",
      " [ 2.02016082  0.3787193 ]\n",
      " [-1.3822153  -0.4324987 ]\n",
      " [-1.18779381 -1.01194013]\n",
      " [ 1.92295008 -0.92502392]\n",
      " [ 0.36757813  0.29180308]\n",
      " [ 0.17315664  0.14694273]\n",
      " [ 2.02016082  1.74040666]\n",
      " [ 0.75642112 -0.83810771]\n",
      " [ 0.27036739 -0.28763835]]\n"
     ]
    },
    {
     "name": "stderr",
     "output_type": "stream",
     "text": [
      "/opt/local/Library/Frameworks/Python.framework/Versions/3.7/lib/python3.7/site-packages/sklearn/utils/validation.py:595: DataConversionWarning: Data with input dtype int64 was converted to float64 by StandardScaler.\n",
      "  warnings.warn(msg, DataConversionWarning)\n",
      "/opt/local/Library/Frameworks/Python.framework/Versions/3.7/lib/python3.7/site-packages/sklearn/utils/validation.py:595: DataConversionWarning: Data with input dtype int64 was converted to float64 by StandardScaler.\n",
      "  warnings.warn(msg, DataConversionWarning)\n",
      "/opt/local/Library/Frameworks/Python.framework/Versions/3.7/lib/python3.7/site-packages/sklearn/utils/validation.py:595: DataConversionWarning: Data with input dtype int64 was converted to float64 by StandardScaler.\n",
      "  warnings.warn(msg, DataConversionWarning)\n"
     ]
    }
   ],
   "source": [
    "# as usual, we wil normalize the data for the x and y data sets before we build and fit our model\n",
    "from sklearn.preprocessing import StandardScaler\n",
    "sc = StandardScaler()\n",
    "# this will analyze the features and fit a normal mean and standard distribution and then transform the values\n",
    "x_train_norm = sc.fit_transform(x_train) \n",
    "# using the previous fitted normalization this will transform the test set\n",
    "x_test_norm = sc.transform(x_test)\n",
    "\n",
    "print('Here is the scaled training data ', x_train_norm[:10])\n",
    "print('Here is the scaled test data ', x_train_norm[:10])"
   ]
  },
  {
   "cell_type": "markdown",
   "metadata": {},
   "source": [
    "## Fitting SVM to the Training set\n",
    "  \n",
    " Details regarding the scikit-learn SVM classifier can be found at:  \n",
    " https://scikit-learn.org/stable/modules/svm.html"
   ]
  },
  {
   "cell_type": "code",
   "execution_count": 7,
   "metadata": {},
   "outputs": [
    {
     "name": "stdout",
     "output_type": "stream",
     "text": [
      "[[ 2.02016082e+00  3.78719297e-01]\n",
      " [ 1.73156642e-01  1.46942725e-01]\n",
      " [ 2.70367388e-01 -2.87638347e-01]\n",
      " [ 3.67578135e-01 -1.71750061e-01]\n",
      " [ 5.61999628e-01 -8.96051849e-01]\n",
      " [ 1.04805336e+00 -1.42777990e-01]\n",
      " [ 7.56421121e-01  3.49747226e-01]\n",
      " [-2.12648508e-02  1.21890937e+00]\n",
      " [ 3.67578135e-01 -4.90442848e-01]\n",
      " [ 7.56421121e-01  7.55356227e-01]\n",
      " [ 2.70367388e-01  6.00265106e-02]\n",
      " [ 3.67578135e-01  2.91803083e-01]\n",
      " [-2.15686344e-01  1.46942725e-01]\n",
      " [-2.12648508e-02 -2.58666276e-01]\n",
      " [ 3.67578135e-01 -1.42777990e-01]\n",
      " [-5.07318583e-01  1.24788144e+00]\n",
      " [ 2.70367388e-01  2.91803083e-01]\n",
      " [ 1.73156642e-01  2.33858940e-01]\n",
      " [ 7.56421121e-01 -3.16610419e-01]\n",
      " [ 2.02016082e+00 -8.09135634e-01]\n",
      " [ 7.56421121e-01  1.17970654e-01]\n",
      " [ 1.73156642e-01 -3.74554562e-01]\n",
      " [ 3.67578135e-01 -1.42777990e-01]\n",
      " [-1.18475597e-01  3.10544391e-02]\n",
      " [-2.12648508e-02 -1.42777990e-01]\n",
      " [ 9.50842613e-01  2.05909944e+00]\n",
      " [ 7.59458956e-02 -3.16610419e-01]\n",
      " [ 1.73156642e-01  6.00265106e-02]\n",
      " [-3.12897090e-01  5.23579655e-01]\n",
      " [ 1.73156642e-01 -3.16610419e-01]\n",
      " [ 1.14526411e+00 -7.51191491e-01]\n",
      " [ 7.59458956e-02  3.10544391e-02]\n",
      " [ 1.73156642e-01 -2.58666276e-01]\n",
      " [-2.12648508e-02  2.91803083e-01]\n",
      " [ 3.67578135e-01  1.46942725e-01]\n",
      " [ 8.53631867e-01 -6.64275277e-01]\n",
      " [-1.18475597e-01  2.91803083e-01]\n",
      " [ 2.70367388e-01 -5.19414919e-01]\n",
      " [ 1.24247485e+00  1.85629494e+00]\n",
      " [-2.12648508e-02  3.10544391e-02]\n",
      " [ 7.59458956e-02 -2.58666276e-01]\n",
      " [ 6.59210374e-01  2.62831011e-01]\n",
      " [ 1.73156642e-01  1.46942725e-01]\n",
      " [ 4.64788881e-01  1.82732287e+00]\n",
      " [ 7.56421121e-01 -1.38857706e+00]\n",
      " [ 1.04805336e+00  1.17970654e-01]\n",
      " [ 7.59458956e-02  3.10544391e-02]\n",
      " [ 2.70367388e-01  6.00265106e-02]\n",
      " [-1.18475597e-01  1.46942725e-01]\n",
      " [ 3.67578135e-01 -4.61470776e-01]\n",
      " [ 1.33968560e+00  1.27685351e+00]\n",
      " [ 2.70367388e-01  6.00265106e-02]\n",
      " [ 2.70367388e-01  3.10544391e-02]\n",
      " [-1.18475597e-01  6.00265106e-02]\n",
      " [ 2.70367388e-01 -2.00722133e-01]\n",
      " [-7.98950822e-01  1.33479766e+00]\n",
      " [-1.18475597e-01  1.17970654e-01]\n",
      " [ 2.70367388e-01 -3.16610419e-01]\n",
      " [ 1.73156642e-01 -3.74554562e-01]\n",
      " [-3.12897090e-01  1.10302108e+00]\n",
      " [-2.12648508e-02  3.10544391e-02]\n",
      " [ 2.70367388e-01 -7.22219420e-01]\n",
      " [ 2.70367388e-01  6.00265106e-02]\n",
      " [ 7.59458956e-02  8.89985821e-02]\n",
      " [ 2.70367388e-01  2.62831011e-01]\n",
      " [ 1.73156642e-01 -3.74554562e-01]\n",
      " [ 1.73156642e-01 -1.42777990e-01]\n",
      " [-3.12897090e-01  2.62831011e-01]\n",
      " [ 7.59458956e-02  2.62831011e-01]\n",
      " [ 3.67578135e-01 -4.61470776e-01]\n",
      " [ 3.67578135e-01  2.91803083e-01]\n",
      " [ 7.56421121e-01 -8.38107706e-01]\n",
      " [-1.09058306e+00  7.55356227e-01]\n",
      " [ 9.50842613e-01 -1.06988428e+00]\n",
      " [ 3.67578135e-01  9.87132798e-01]\n",
      " [-6.04529329e-01  1.45068594e+00]\n",
      " [-6.04529329e-01  1.88526701e+00]\n",
      " [ 1.33968560e+00 -1.41754914e+00]\n",
      " [ 3.67578135e-01  8.89985821e-02]\n",
      " [ 8.53631867e-01 -6.06331134e-01]\n",
      " [ 8.53631867e-01 -5.48386991e-01]\n",
      " [ 1.73156642e-01  1.07404901e+00]\n",
      " [ 9.50842613e-01 -8.38107706e-01]\n",
      " [-2.12648508e-02  1.24788144e+00]\n",
      " [-8.96161568e-01  2.26190394e+00]\n",
      " [ 7.59458956e-02  7.55356227e-01]\n",
      " [ 6.59210374e-01 -1.27268878e+00]\n",
      " [-5.07318583e-01  2.29087602e+00]\n",
      " [ 1.73156642e-01  3.10544391e-02]\n",
      " [ 7.56421121e-01  2.62831011e-01]\n",
      " [-1.18475597e-01  2.33858940e-01]\n",
      " [ 2.70367388e-01  4.94607583e-01]\n",
      " [-9.93372315e-01  1.53760216e+00]\n",
      " [-7.01740076e-01  1.39274180e+00]\n",
      " [-1.18475597e-01  2.08236764e-03]\n",
      " [ 8.53631867e-01 -1.35960499e+00]\n",
      " [-3.12897090e-01  2.23293187e+00]\n",
      " [ 1.24247485e+00 -1.35960499e+00]\n",
      " [-7.98950822e-01  1.07404901e+00]\n",
      " [ 9.50842613e-01 -1.06988428e+00]\n",
      " [-2.15686344e-01  1.39274180e+00]\n",
      " [ 3.67578135e-01  5.81523798e-01]\n",
      " [ 8.53631867e-01 -1.15680049e+00]\n",
      " [-3.12897090e-01  6.10495869e-01]\n",
      " [ 1.82573933e+00 -1.27268878e+00]\n",
      " [ 1.33968560e+00 -9.25023920e-01]\n",
      " [ 6.59210374e-01 -7.22219420e-01]\n",
      " [ 7.56421121e-01 -1.35960499e+00]\n",
      " [ 9.50842613e-01 -1.01194013e+00]\n",
      " [ 1.04805336e+00 -1.21474464e+00]\n",
      " [ 7.56421121e-01 -1.21474464e+00]\n",
      " [-3.12897090e-01  7.84328298e-01]\n",
      " [ 7.56421121e-01  5.23579655e-01]\n",
      " [ 8.53631867e-01 -1.04091221e+00]\n",
      " [-6.04529329e-01  8.71244512e-01]\n",
      " [ 1.14526411e+00 -1.44652121e+00]\n",
      " [ 7.56421121e-01 -1.09885635e+00]\n",
      " [ 8.53631867e-01 -1.30166085e+00]\n",
      " [-4.10107836e-01  1.21890937e+00]\n",
      " [ 7.59458956e-02  1.46942725e-01]\n",
      " [-2.15686344e-01  1.59554630e+00]\n",
      " [ 9.50842613e-01 -1.18577256e+00]\n",
      " [-2.15686344e-01  1.62451837e+00]\n",
      " [ 9.50842613e-01  1.17970654e-01]\n",
      " [-6.04529329e-01  1.36376973e+00]\n",
      " [-1.18475597e-01  1.94321116e+00]\n",
      " [ 6.59210374e-01 -1.38857706e+00]\n",
      " [ 7.59458956e-02  1.50863009e+00]\n",
      " [ 1.53410709e+00 -1.27268878e+00]\n",
      " [-7.98950822e-01  1.88526701e+00]\n",
      " [ 1.14526411e+00 -9.82968063e-01]\n",
      " [ 7.59458956e-02  1.04507694e+00]\n",
      " [-1.09058306e+00  1.94321116e+00]\n",
      " [ 8.53631867e-01 -5.77359062e-01]\n",
      " [-1.18475597e-01  6.68440012e-01]\n",
      " [ 3.67578135e-01  1.10302108e+00]\n",
      " [ 8.53631867e-01 -1.44652121e+00]\n",
      " [ 1.04805336e+00 -8.96051849e-01]\n",
      " [ 1.63131784e+00 -8.96051849e-01]\n",
      " [ 9.50842613e-01 -1.15680049e+00]]\n"
     ]
    }
   ],
   "source": [
    "from sklearn.svm import SVC\n",
    "classifier = SVC(kernel='linear', random_state = 0)\n",
    "classifier.fit(x_train_norm, y_train)\n",
    "# let's look at the support vectors generated \n",
    "print(classifier.support_vectors_)"
   ]
  },
  {
   "cell_type": "markdown",
   "metadata": {},
   "source": [
    "## Predicting the Test set results"
   ]
  },
  {
   "cell_type": "code",
   "execution_count": 9,
   "metadata": {},
   "outputs": [
    {
     "name": "stdout",
     "output_type": "stream",
     "text": [
      "The prediction looks like  [0 0 0 0 0 0 0 1 0 0 0 0 0 0 0 0 0 0 1 0 0 1 0 1 0 1 0 0 0 0 0 0 1 0 0 0 0\n",
      " 0 0 0 0 0 0 0 1 0 0 1 0 1 1 0 0 0 1 0 0 0 0 0 0 1 0 0 0 1 0 0 0 0 1 0 0 0\n",
      " 0 0 1 0 1 1]\n"
     ]
    }
   ],
   "source": [
    "# use the trained and fitted model to generate a prediction based on the x_test set\n",
    "y_pred = classifier.predict(x_test_norm)\n",
    "\n",
    "print('The prediction looks like ', y_pred)"
   ]
  },
  {
   "cell_type": "markdown",
   "metadata": {},
   "source": [
    "## Making the Confusion Matrix"
   ]
  },
  {
   "cell_type": "code",
   "execution_count": 10,
   "metadata": {},
   "outputs": [
    {
     "name": "stdout",
     "output_type": "stream",
     "text": [
      "[[57  1]\n",
      " [ 6 16]]\n",
      "              precision    recall  f1-score   support\n",
      "\n",
      "           0       0.90      0.98      0.94        58\n",
      "           1       0.94      0.73      0.82        22\n",
      "\n",
      "   micro avg       0.91      0.91      0.91        80\n",
      "   macro avg       0.92      0.86      0.88        80\n",
      "weighted avg       0.91      0.91      0.91        80\n",
      "\n"
     ]
    },
    {
     "data": {
      "image/png": "[encoded data removed]",
      "text/plain": [
       "<Figure size 432x288 with 1 Axes>"
      ]
     },
     "metadata": {
      "needs_background": "light"
     },
     "output_type": "display_data"
    }
   ],
   "source": [
    "# let's visit our old friend the confusion matrix to see how well our model performs\n",
    "# by comparing our y test data against our y predicted data\n",
    "from sklearn.metrics import confusion_matrix, classification_report\n",
    "cm = confusion_matrix(y_test, y_pred)\n",
    "\n",
    "print(cm)\n",
    "print(classification_report(y_test, y_pred))\n",
    "\n",
    "# let's plot the confusion matrix\n",
    "# Thanks to the following site for excellent plot code for confusion matrices: \n",
    "# http://www.tarekatwan.com/index.php/2017/12/how-to-plot-a-confusion-matrix-in-python/\n",
    "#\n",
    "plt.clf()\n",
    "plt.imshow(cm, interpolation='nearest', cmap=plt.cm.Wistia)\n",
    "classNames = ['Negative','Positive']\n",
    "plt.title('Confusion Matrix - Test Data')\n",
    "plt.ylabel('True label')\n",
    "plt.xlabel('Predicted label')\n",
    "tick_marks = np.arange(len(classNames))\n",
    "plt.xticks(tick_marks, classNames, rotation=45)\n",
    "plt.yticks(tick_marks, classNames)\n",
    "s = [['TN','FP'], ['FN', 'TP']]\n",
    "for i in range(2):\n",
    "    for j in range(2):\n",
    "        plt.text(j,i, str(s[i][j])+\" = \"+str(cm[i][j]))\n",
    "plt.show()\n",
    "\n"
   ]
  }
 ],
 "metadata": {
  "kernelspec": {
   "display_name": "Python 3",
   "language": "python",
   "name": "python3"
  },
  "language_info": {
   "codemirror_mode": {
    "name": "ipython",
    "version": 3
   },
   "file_extension": ".py",
   "mimetype": "text/x-python",
   "name": "python",
   "nbconvert_exporter": "python",
   "pygments_lexer": "ipython3",
   "version": "3.7.2"
  }
 },
 "nbformat": 4,
 "nbformat_minor": 2
}

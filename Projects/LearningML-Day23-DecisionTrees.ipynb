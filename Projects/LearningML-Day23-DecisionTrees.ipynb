{
 "cells": [
  {
   "cell_type": "markdown",
   "metadata": {},
   "source": [
    "# Decision Trees\n",
    "\n",
    "We're going to skip ahead in Avik's progression to Decision Trees in order to stick with the theme of classification algorithms. Decision trees are not used frequently in analysis, but they are inutitive and easy to understand. A more useful algorithm is Random Forests, which is based on Decision Trees, and we will be looking at that later.\n",
    "\n",
    "Decision trees are a type of supervised learning algorithm used mainly for classification problems. One big advantage of decision trees is that it works for both categorical and numerical variables. Remember that being a supervised learning algorithm means we have to first train a decision tree algorithm with historical data to form our model. We can then apply our fitted model to new data in order to classify the new data.\n",
    "\n",
    "Again, Avik's infographic is great and can be found at:\n",
    "\n",
    "https://github.com/Avik-Jain/100-Days-Of-ML-Code/blob/master/Code/Day%2025%20Decision%20Tree.md\n"
   ]
  },
  {
   "cell_type": "markdown",
   "metadata": {},
   "source": [
    "## Importing the libraries"
   ]
  },
  {
   "cell_type": "code",
   "execution_count": 50,
   "metadata": {},
   "outputs": [],
   "source": [
    "import numpy as np\n",
    "import matplotlib.pyplot as plt\n",
    "import pandas as pd"
   ]
  },
  {
   "cell_type": "markdown",
   "metadata": {},
   "source": [
    "## Importing the dataset"
   ]
  },
  {
   "cell_type": "code",
   "execution_count": 51,
   "metadata": {},
   "outputs": [
    {
     "name": "stdout",
     "output_type": "stream",
     "text": [
      "    User ID  Gender  Age  EstimatedSalary  Purchased\n",
      "0  15624510    Male   19            19000          0\n",
      "1  15810944    Male   35            20000          0\n",
      "2  15668575  Female   26            43000          0\n",
      "3  15603246  Female   27            57000          0\n",
      "4  15804002    Male   19            76000          0\n",
      "shape of the full dataset looks like  (400, 5)\n",
      "x looks like:  [[   19 19000]\n",
      " [   35 20000]\n",
      " [   26 43000]]\n",
      "y looks like:  [0 0 0]\n"
     ]
    }
   ],
   "source": [
    "# read in the dataset, remember to modify the path name for your environment\n",
    "#\n",
    "# This dataset contains information on users in a social network. The data includes a user id, gender type,\n",
    "# the age, and the estimated salary. A car company has just launched their brand new luxury SUV and they\n",
    "# are trying to see which of these users of the social network are predicted to buy this brand new SUV.\n",
    "# The last column indicates if the user bought this SUV (dependent variable). We are going to build a model \n",
    "# that is going to predict if a user is going to buy or not the SUV based on the age and the estimated salary\n",
    "# independent variables. \n",
    "#\n",
    "dataset = pd.read_csv('data/Social_Network_Ads.csv')\n",
    "# let's take a quick look at the data attributes\n",
    "print(dataset.head())\n",
    "# set up the x using only the Age and EstimatedSalary attribute values\n",
    "x = dataset.iloc[:,[2,3]].values\n",
    "# set up the y with the Purchased attribute values\n",
    "y = dataset.iloc[:, 4].values\n",
    "# let's take a quick look at each data frame\n",
    "print('shape of the full dataset looks like ', dataset.shape)\n",
    "print('x looks like: ', x[0:3])\n",
    "print('y looks like: ', y[0:3])"
   ]
  },
  {
   "cell_type": "markdown",
   "metadata": {},
   "source": [
    "## Splitting the dataset into the Training set and the Test set"
   ]
  },
  {
   "cell_type": "code",
   "execution_count": 52,
   "metadata": {},
   "outputs": [],
   "source": [
    "# we're going to use our usual 80/20 training/test data split to train the algorithm and to test it.\n",
    "from sklearn.model_selection import train_test_split\n",
    "x_train, x_test, y_train, y_test = train_test_split(x, y, test_size=0.20, random_state=0)\n"
   ]
  },
  {
   "cell_type": "markdown",
   "metadata": {},
   "source": [
    "## Feature Scaling"
   ]
  },
  {
   "cell_type": "code",
   "execution_count": 53,
   "metadata": {},
   "outputs": [
    {
     "name": "stdout",
     "output_type": "stream",
     "text": [
      "Here is the scaled training data  [[ 1.92295008  2.14601566]\n",
      " [ 2.02016082  0.3787193 ]\n",
      " [-1.3822153  -0.4324987 ]\n",
      " [-1.18779381 -1.01194013]\n",
      " [ 1.92295008 -0.92502392]\n",
      " [ 0.36757813  0.29180308]\n",
      " [ 0.17315664  0.14694273]\n",
      " [ 2.02016082  1.74040666]\n",
      " [ 0.75642112 -0.83810771]\n",
      " [ 0.27036739 -0.28763835]]\n",
      "Here is the scaled test data  [[ 1.92295008  2.14601566]\n",
      " [ 2.02016082  0.3787193 ]\n",
      " [-1.3822153  -0.4324987 ]\n",
      " [-1.18779381 -1.01194013]\n",
      " [ 1.92295008 -0.92502392]\n",
      " [ 0.36757813  0.29180308]\n",
      " [ 0.17315664  0.14694273]\n",
      " [ 2.02016082  1.74040666]\n",
      " [ 0.75642112 -0.83810771]\n",
      " [ 0.27036739 -0.28763835]]\n"
     ]
    },
    {
     "name": "stderr",
     "output_type": "stream",
     "text": [
      "/opt/local/Library/Frameworks/Python.framework/Versions/3.7/lib/python3.7/site-packages/sklearn/utils/validation.py:595: DataConversionWarning: Data with input dtype int64 was converted to float64 by StandardScaler.\n",
      "  warnings.warn(msg, DataConversionWarning)\n",
      "/opt/local/Library/Frameworks/Python.framework/Versions/3.7/lib/python3.7/site-packages/sklearn/utils/validation.py:595: DataConversionWarning: Data with input dtype int64 was converted to float64 by StandardScaler.\n",
      "  warnings.warn(msg, DataConversionWarning)\n",
      "/opt/local/Library/Frameworks/Python.framework/Versions/3.7/lib/python3.7/site-packages/sklearn/utils/validation.py:595: DataConversionWarning: Data with input dtype int64 was converted to float64 by StandardScaler.\n",
      "  warnings.warn(msg, DataConversionWarning)\n"
     ]
    }
   ],
   "source": [
    "# as usual, we wil normalize the data for the x and y data sets before we build and fit our model\n",
    "from sklearn.preprocessing import StandardScaler\n",
    "sc = StandardScaler()\n",
    "# this will analyze the features and fit a normal mean and standard distribution and then transform the values\n",
    "x_train_norm = sc.fit_transform(x_train) \n",
    "# using the previous fitted normalization this will transform the test set\n",
    "x_test_norm = sc.transform(x_test)\n",
    "\n",
    "print('Here is the scaled training data ', x_train_norm[:10])\n",
    "print('Here is the scaled test data ', x_train_norm[:10])"
   ]
  },
  {
   "cell_type": "markdown",
   "metadata": {},
   "source": [
    "## Fitting Decision Tree Classification to the Training Set\n",
    "\n",
    "Details regarding the decision tree classifier and associated parameters can be found at:\n",
    "\n",
    "https://scikit-learn.org/stable/modules/generated/sklearn.tree.DecisionTreeClassifier.html\n"
   ]
  },
  {
   "cell_type": "code",
   "execution_count": 59,
   "metadata": {},
   "outputs": [
    {
     "name": "stdout",
     "output_type": "stream",
     "text": [
      "[0.47274409 0.52725591]\n",
      "The number of features =  2\n",
      "The number of classes =  2\n",
      "The number of outputs =  1\n"
     ]
    }
   ],
   "source": [
    "from sklearn.tree import DecisionTreeClassifier\n",
    "classifier = DecisionTreeClassifier(criterion = 'entropy', random_state = 0)\n",
    "# at this point we use the decision tree classifier to fit the x training data to the y result\n",
    "classifier.fit(x_train, y_train)\n",
    "\n",
    "print(classifier.feature_importances_)\n",
    "print('The number of features = ', classifier.n_features_)\n",
    "print('The number of classes = ', classifier.n_classes_)\n",
    "print('The number of outputs = ', classifier.n_outputs_)\n",
    "#\n",
    "# since we had two indepedent variables we are using, Age and EstSalary, there are two featues used in the Decision Tree\n",
    "# The feature_importances shows the influence of each feature on the split calculations, and it appears they were\n",
    "# fairly evenly balanced at 47% to 52%. These are also known as the Gini importance if you'd like to research more."
   ]
  },
  {
   "cell_type": "markdown",
   "metadata": {},
   "source": [
    "## Predicting the Test Set Results"
   ]
  },
  {
   "cell_type": "code",
   "execution_count": 55,
   "metadata": {},
   "outputs": [
    {
     "name": "stdout",
     "output_type": "stream",
     "text": [
      "The prediction looks like  [0 0 0 0 0 0 0 1 0 0 0 0 0 1 0 1 1 0 1 0 0 1 0 1 0 0 0 0 0 0 0 0 1 0 0 0 0\n",
      " 0 0 1 0 0 0 0 1 0 0 1 0 1 1 0 0 1 0 1 0 0 1 0 0 1 0 1 0 1 0 0 0 1 1 0 0 1\n",
      " 0 0 0 0 1 1]\n"
     ]
    }
   ],
   "source": [
    "# generate a prediction set for the x test set based on the fitted decision tree model\n",
    "y_pred = classifier.predict(x_test)\n",
    "\n",
    "print('The prediction looks like ', y_pred)"
   ]
  },
  {
   "cell_type": "code",
   "execution_count": 56,
   "metadata": {},
   "outputs": [
    {
     "name": "stdout",
     "output_type": "stream",
     "text": [
      "[[53  5]\n",
      " [ 3 19]]\n",
      "              precision    recall  f1-score   support\n",
      "\n",
      "           0       0.95      0.91      0.93        58\n",
      "           1       0.79      0.86      0.83        22\n",
      "\n",
      "   micro avg       0.90      0.90      0.90        80\n",
      "   macro avg       0.87      0.89      0.88        80\n",
      "weighted avg       0.90      0.90      0.90        80\n",
      "\n"
     ]
    },
    {
     "data": {
      "image/png": "[encoded data removed]",
      "text/plain": [
       "<Figure size 432x288 with 1 Axes>"
      ]
     },
     "metadata": {
      "needs_background": "light"
     },
     "output_type": "display_data"
    }
   ],
   "source": [
    "# let's visit our old friend the confusion matrix to see how well our model performs\n",
    "# by comparing our y test data against our y predicted data\n",
    "from sklearn.metrics import confusion_matrix, classification_report\n",
    "cm = confusion_matrix(y_test, y_pred)\n",
    "\n",
    "print(cm)\n",
    "print(classification_report(y_test, y_pred))\n",
    "\n",
    "# let's plot the confusion matrix\n",
    "# Thanks to the following site for excellent plot code for confusion matrices: \n",
    "# http://www.tarekatwan.com/index.php/2017/12/how-to-plot-a-confusion-matrix-in-python/\n",
    "#\n",
    "plt.clf()\n",
    "plt.imshow(cm, interpolation='nearest', cmap=plt.cm.Wistia)\n",
    "classNames = ['Negative','Positive']\n",
    "plt.title('Confusion Matrix - Test Data')\n",
    "plt.ylabel('True label')\n",
    "plt.xlabel('Predicted label')\n",
    "tick_marks = np.arange(len(classNames))\n",
    "plt.xticks(tick_marks, classNames, rotation=45)\n",
    "plt.yticks(tick_marks, classNames)\n",
    "s = [['TN','FP'], ['FN', 'TP']]\n",
    "for i in range(2):\n",
    "    for j in range(2):\n",
    "        plt.text(j,i, str(s[i][j])+\" = \"+str(cm[i][j]))\n",
    "plt.show()\n",
    "#\n",
    "# we'll see that the model has a precision of 95 for not identifying false purchases, and 79 for \n",
    "# For 22 purchases, only 3 where identified as non-purchases or 86% accuracy, for 58 non-purchases\n",
    "# only 5 where identified as purchases or 91% accuracy."
   ]
  },
  {
   "cell_type": "markdown",
   "metadata": {},
   "source": [
    "## Visualizing the Decision Tree Classifier Results"
   ]
  },
  {
   "cell_type": "code",
   "execution_count": 57,
   "metadata": {},
   "outputs": [
    {
     "data": {
      "image/svg+xml": [
       "<?xml version=\"1.0\" encoding=\"UTF-8\" standalone=\"no\"?>\n",
       "<!DOCTYPE svg PUBLIC \"-//W3C//DTD SVG 1.1//EN\"\n",
       " \"http://www.w3.org/Graphics/SVG/1.1/DTD/svg11.dtd\">\n",
       "<!-- Generated by graphviz version 2.40.1 (20161225.0304)\n",
       " -->\n",
       "<!-- Title: Tree Pages: 1 -->\n",
       "<svg width=\"614pt\" height=\"356pt\"\n",
       " viewBox=\"0.00 0.00 614.00 356.00\" xmlns=\"http://www.w3.org/2000/svg\" xmlns:xlink=\"http://www.w3.org/1999/xlink\">\n",
       "<g id=\"graph0\" class=\"graph\" transform=\"scale(1 1) rotate(0) translate(4 352)\">\n",
       "<title>Tree</title>\n",
       "<polygon fill=\"#ffffff\" stroke=\"transparent\" points=\"-4,4 -4,-352 610,-352 610,4 -4,4\"/>\n",
       "<!-- 0 -->\n",
       "<g id=\"node1\" class=\"node\">\n",
       "<title>0</title>\n",
       "<path fill=\"#e58139\" fill-opacity=\"0.392157\" stroke=\"#000000\" d=\"M341,-348C341,-348 237,-348 237,-348 231,-348 225,-342 225,-336 225,-336 225,-292 225,-292 225,-286 231,-280 237,-280 237,-280 341,-280 341,-280 347,-280 353,-286 353,-292 353,-292 353,-336 353,-336 353,-342 347,-348 341,-348\"/>\n",
       "<text text-anchor=\"start\" x=\"255\" y=\"-332.8\" font-family=\"Helvetica,sans-Serif\" font-size=\"14.00\" fill=\"#000000\">Age ≤ 44.5</text>\n",
       "<text text-anchor=\"start\" x=\"240\" y=\"-317.8\" font-family=\"Helvetica,sans-Serif\" font-size=\"14.00\" fill=\"#000000\">entropy = 0.957</text>\n",
       "<text text-anchor=\"start\" x=\"243\" y=\"-302.8\" font-family=\"Helvetica,sans-Serif\" font-size=\"14.00\" fill=\"#000000\">samples = 320</text>\n",
       "<text text-anchor=\"start\" x=\"233\" y=\"-287.8\" font-family=\"Helvetica,sans-Serif\" font-size=\"14.00\" fill=\"#000000\">value = [199, 121]</text>\n",
       "</g>\n",
       "<!-- 1 -->\n",
       "<g id=\"node2\" class=\"node\">\n",
       "<title>1</title>\n",
       "<path fill=\"#e58139\" fill-opacity=\"0.760784\" stroke=\"#000000\" d=\"M266,-244C266,-244 148,-244 148,-244 142,-244 136,-238 136,-232 136,-232 136,-188 136,-188 136,-182 142,-176 148,-176 148,-176 266,-176 266,-176 272,-176 278,-182 278,-188 278,-188 278,-232 278,-232 278,-238 272,-244 266,-244\"/>\n",
       "<text text-anchor=\"start\" x=\"144\" y=\"-228.8\" font-family=\"Helvetica,sans-Serif\" font-size=\"14.00\" fill=\"#000000\">EstSalary ≤ 90500.0</text>\n",
       "<text text-anchor=\"start\" x=\"158\" y=\"-213.8\" font-family=\"Helvetica,sans-Serif\" font-size=\"14.00\" fill=\"#000000\">entropy = 0.708</text>\n",
       "<text text-anchor=\"start\" x=\"161\" y=\"-198.8\" font-family=\"Helvetica,sans-Serif\" font-size=\"14.00\" fill=\"#000000\">samples = 228</text>\n",
       "<text text-anchor=\"start\" x=\"155\" y=\"-183.8\" font-family=\"Helvetica,sans-Serif\" font-size=\"14.00\" fill=\"#000000\">value = [184, 44]</text>\n",
       "</g>\n",
       "<!-- 0&#45;&gt;1 -->\n",
       "<g id=\"edge1\" class=\"edge\">\n",
       "<title>0&#45;&gt;1</title>\n",
       "<path fill=\"none\" stroke=\"#000000\" d=\"M262.1501,-279.9465C255.1417,-271.0578 247.5045,-261.3716 240.209,-252.1188\"/>\n",
       "<polygon fill=\"#000000\" stroke=\"#000000\" points=\"242.8502,-249.8157 233.9102,-244.13 237.3533,-254.1498 242.8502,-249.8157\"/>\n",
       "<text text-anchor=\"middle\" x=\"230.9737\" y=\"-265.2569\" font-family=\"Helvetica,sans-Serif\" font-size=\"14.00\" fill=\"#000000\">True</text>\n",
       "</g>\n",
       "<!-- 52 -->\n",
       "<g id=\"node9\" class=\"node\">\n",
       "<title>52</title>\n",
       "<path fill=\"#399de5\" fill-opacity=\"0.803922\" stroke=\"#000000\" d=\"M430,-244C430,-244 312,-244 312,-244 306,-244 300,-238 300,-232 300,-232 300,-188 300,-188 300,-182 306,-176 312,-176 312,-176 430,-176 430,-176 436,-176 442,-182 442,-188 442,-188 442,-232 442,-232 442,-238 436,-244 430,-244\"/>\n",
       "<text text-anchor=\"start\" x=\"308\" y=\"-228.8\" font-family=\"Helvetica,sans-Serif\" font-size=\"14.00\" fill=\"#000000\">EstSalary ≤ 41500.0</text>\n",
       "<text text-anchor=\"start\" x=\"322\" y=\"-213.8\" font-family=\"Helvetica,sans-Serif\" font-size=\"14.00\" fill=\"#000000\">entropy = 0.642</text>\n",
       "<text text-anchor=\"start\" x=\"329\" y=\"-198.8\" font-family=\"Helvetica,sans-Serif\" font-size=\"14.00\" fill=\"#000000\">samples = 92</text>\n",
       "<text text-anchor=\"start\" x=\"322.5\" y=\"-183.8\" font-family=\"Helvetica,sans-Serif\" font-size=\"14.00\" fill=\"#000000\">value = [15, 77]</text>\n",
       "</g>\n",
       "<!-- 0&#45;&gt;52 -->\n",
       "<g id=\"edge8\" class=\"edge\">\n",
       "<title>0&#45;&gt;52</title>\n",
       "<path fill=\"none\" stroke=\"#000000\" d=\"M315.8499,-279.9465C322.8583,-271.0578 330.4955,-261.3716 337.791,-252.1188\"/>\n",
       "<polygon fill=\"#000000\" stroke=\"#000000\" points=\"340.6467,-254.1498 344.0898,-244.13 335.1498,-249.8157 340.6467,-254.1498\"/>\n",
       "<text text-anchor=\"middle\" x=\"347.0263\" y=\"-265.2569\" font-family=\"Helvetica,sans-Serif\" font-size=\"14.00\" fill=\"#000000\">False</text>\n",
       "</g>\n",
       "<!-- 2 -->\n",
       "<g id=\"node3\" class=\"node\">\n",
       "<title>2</title>\n",
       "<path fill=\"#e58139\" fill-opacity=\"0.956863\" stroke=\"#000000\" d=\"M102,-140C102,-140 12,-140 12,-140 6,-140 0,-134 0,-128 0,-128 0,-84 0,-84 0,-78 6,-72 12,-72 12,-72 102,-72 102,-72 108,-72 114,-78 114,-84 114,-84 114,-128 114,-128 114,-134 108,-140 102,-140\"/>\n",
       "<text text-anchor=\"start\" x=\"23\" y=\"-124.8\" font-family=\"Helvetica,sans-Serif\" font-size=\"14.00\" fill=\"#000000\">Age ≤ 36.5</text>\n",
       "<text text-anchor=\"start\" x=\"8\" y=\"-109.8\" font-family=\"Helvetica,sans-Serif\" font-size=\"14.00\" fill=\"#000000\">entropy = 0.256</text>\n",
       "<text text-anchor=\"start\" x=\"11\" y=\"-94.8\" font-family=\"Helvetica,sans-Serif\" font-size=\"14.00\" fill=\"#000000\">samples = 186</text>\n",
       "<text text-anchor=\"start\" x=\"8.5\" y=\"-79.8\" font-family=\"Helvetica,sans-Serif\" font-size=\"14.00\" fill=\"#000000\">value = [178, 8]</text>\n",
       "</g>\n",
       "<!-- 1&#45;&gt;2 -->\n",
       "<g id=\"edge2\" class=\"edge\">\n",
       "<title>1&#45;&gt;2</title>\n",
       "<path fill=\"none\" stroke=\"#000000\" d=\"M157.8844,-175.9465C144.0281,-166.3395 128.8283,-155.8009 114.5261,-145.8848\"/>\n",
       "<polygon fill=\"#000000\" stroke=\"#000000\" points=\"116.4382,-142.9515 106.226,-140.13 112.4497,-148.7041 116.4382,-142.9515\"/>\n",
       "</g>\n",
       "<!-- 33 -->\n",
       "<g id=\"node6\" class=\"node\">\n",
       "<title>33</title>\n",
       "<path fill=\"#399de5\" fill-opacity=\"0.831373\" stroke=\"#000000\" d=\"M270,-140C270,-140 144,-140 144,-140 138,-140 132,-134 132,-128 132,-128 132,-84 132,-84 132,-78 138,-72 144,-72 144,-72 270,-72 270,-72 276,-72 282,-78 282,-84 282,-84 282,-128 282,-128 282,-134 276,-140 270,-140\"/>\n",
       "<text text-anchor=\"start\" x=\"140\" y=\"-124.8\" font-family=\"Helvetica,sans-Serif\" font-size=\"14.00\" fill=\"#000000\">EstSalary ≤ 133500.0</text>\n",
       "<text text-anchor=\"start\" x=\"158\" y=\"-109.8\" font-family=\"Helvetica,sans-Serif\" font-size=\"14.00\" fill=\"#000000\">entropy = 0.592</text>\n",
       "<text text-anchor=\"start\" x=\"165\" y=\"-94.8\" font-family=\"Helvetica,sans-Serif\" font-size=\"14.00\" fill=\"#000000\">samples = 42</text>\n",
       "<text text-anchor=\"start\" x=\"162.5\" y=\"-79.8\" font-family=\"Helvetica,sans-Serif\" font-size=\"14.00\" fill=\"#000000\">value = [6, 36]</text>\n",
       "</g>\n",
       "<!-- 1&#45;&gt;33 -->\n",
       "<g id=\"edge5\" class=\"edge\">\n",
       "<title>1&#45;&gt;33</title>\n",
       "<path fill=\"none\" stroke=\"#000000\" d=\"M207,-175.9465C207,-167.776 207,-158.9318 207,-150.3697\"/>\n",
       "<polygon fill=\"#000000\" stroke=\"#000000\" points=\"210.5001,-150.13 207,-140.13 203.5001,-150.13 210.5001,-150.13\"/>\n",
       "</g>\n",
       "<!-- 3 -->\n",
       "<g id=\"node4\" class=\"node\">\n",
       "<title>3</title>\n",
       "<path fill=\"#c0c0c0\" stroke=\"#000000\" d=\"M50,-36C50,-36 20,-36 20,-36 14,-36 8,-30 8,-24 8,-24 8,-12 8,-12 8,-6 14,0 20,0 20,0 50,0 50,0 56,0 62,-6 62,-12 62,-12 62,-24 62,-24 62,-30 56,-36 50,-36\"/>\n",
       "<text text-anchor=\"middle\" x=\"35\" y=\"-14.3\" font-family=\"Helvetica,sans-Serif\" font-size=\"14.00\" fill=\"#000000\">(...)</text>\n",
       "</g>\n",
       "<!-- 2&#45;&gt;3 -->\n",
       "<g id=\"edge3\" class=\"edge\">\n",
       "<title>2&#45;&gt;3</title>\n",
       "<path fill=\"none\" stroke=\"#000000\" d=\"M48.4942,-71.9769C46.3518,-63.4071 44.0761,-54.3043 42.0159,-46.0638\"/>\n",
       "<polygon fill=\"#000000\" stroke=\"#000000\" points=\"45.3689,-45.0445 39.548,-36.192 38.5779,-46.7423 45.3689,-45.0445\"/>\n",
       "</g>\n",
       "<!-- 4 -->\n",
       "<g id=\"node5\" class=\"node\">\n",
       "<title>4</title>\n",
       "<path fill=\"#c0c0c0\" stroke=\"#000000\" d=\"M122,-36C122,-36 92,-36 92,-36 86,-36 80,-30 80,-24 80,-24 80,-12 80,-12 80,-6 86,0 92,0 92,0 122,0 122,0 128,0 134,-6 134,-12 134,-12 134,-24 134,-24 134,-30 128,-36 122,-36\"/>\n",
       "<text text-anchor=\"middle\" x=\"107\" y=\"-14.3\" font-family=\"Helvetica,sans-Serif\" font-size=\"14.00\" fill=\"#000000\">(...)</text>\n",
       "</g>\n",
       "<!-- 2&#45;&gt;4 -->\n",
       "<g id=\"edge4\" class=\"edge\">\n",
       "<title>2&#45;&gt;4</title>\n",
       "<path fill=\"none\" stroke=\"#000000\" d=\"M76.3313,-71.9769C81.4169,-63.0262 86.8329,-53.4941 91.676,-44.9703\"/>\n",
       "<polygon fill=\"#000000\" stroke=\"#000000\" points=\"94.7666,-46.6156 96.6637,-36.192 88.6804,-43.1575 94.7666,-46.6156\"/>\n",
       "</g>\n",
       "<!-- 34 -->\n",
       "<g id=\"node7\" class=\"node\">\n",
       "<title>34</title>\n",
       "<path fill=\"#c0c0c0\" stroke=\"#000000\" d=\"M208,-36C208,-36 178,-36 178,-36 172,-36 166,-30 166,-24 166,-24 166,-12 166,-12 166,-6 172,0 178,0 178,0 208,0 208,0 214,0 220,-6 220,-12 220,-12 220,-24 220,-24 220,-30 214,-36 208,-36\"/>\n",
       "<text text-anchor=\"middle\" x=\"193\" y=\"-14.3\" font-family=\"Helvetica,sans-Serif\" font-size=\"14.00\" fill=\"#000000\">(...)</text>\n",
       "</g>\n",
       "<!-- 33&#45;&gt;34 -->\n",
       "<g id=\"edge6\" class=\"edge\">\n",
       "<title>33&#45;&gt;34</title>\n",
       "<path fill=\"none\" stroke=\"#000000\" d=\"M201.5872,-71.9769C200.239,-63.5023 198.8079,-54.5065 197.5084,-46.3388\"/>\n",
       "<polygon fill=\"#000000\" stroke=\"#000000\" points=\"200.9219,-45.5178 195.8942,-36.192 194.0089,-46.6177 200.9219,-45.5178\"/>\n",
       "</g>\n",
       "<!-- 51 -->\n",
       "<g id=\"node8\" class=\"node\">\n",
       "<title>51</title>\n",
       "<path fill=\"#c0c0c0\" stroke=\"#000000\" d=\"M280,-36C280,-36 250,-36 250,-36 244,-36 238,-30 238,-24 238,-24 238,-12 238,-12 238,-6 244,0 250,0 250,0 280,0 280,0 286,0 292,-6 292,-12 292,-12 292,-24 292,-24 292,-30 286,-36 280,-36\"/>\n",
       "<text text-anchor=\"middle\" x=\"265\" y=\"-14.3\" font-family=\"Helvetica,sans-Serif\" font-size=\"14.00\" fill=\"#000000\">(...)</text>\n",
       "</g>\n",
       "<!-- 33&#45;&gt;51 -->\n",
       "<g id=\"edge7\" class=\"edge\">\n",
       "<title>33&#45;&gt;51</title>\n",
       "<path fill=\"none\" stroke=\"#000000\" d=\"M229.4243,-71.9769C235.3864,-62.931 241.7398,-53.2913 247.4032,-44.6986\"/>\n",
       "<polygon fill=\"#000000\" stroke=\"#000000\" points=\"250.429,-46.4677 253.0098,-36.192 244.5843,-42.6154 250.429,-46.4677\"/>\n",
       "</g>\n",
       "<!-- 53 -->\n",
       "<g id=\"node10\" class=\"node\">\n",
       "<title>53</title>\n",
       "<path fill=\"#399de5\" fill-opacity=\"0.968627\" stroke=\"#000000\" d=\"M430,-140C430,-140 312,-140 312,-140 306,-140 300,-134 300,-128 300,-128 300,-84 300,-84 300,-78 306,-72 312,-72 312,-72 430,-72 430,-72 436,-72 442,-78 442,-84 442,-84 442,-128 442,-128 442,-134 436,-140 430,-140\"/>\n",
       "<text text-anchor=\"start\" x=\"308\" y=\"-124.8\" font-family=\"Helvetica,sans-Serif\" font-size=\"14.00\" fill=\"#000000\">EstSalary ≤ 22500.0</text>\n",
       "<text text-anchor=\"start\" x=\"322\" y=\"-109.8\" font-family=\"Helvetica,sans-Serif\" font-size=\"14.00\" fill=\"#000000\">entropy = 0.196</text>\n",
       "<text text-anchor=\"start\" x=\"329\" y=\"-94.8\" font-family=\"Helvetica,sans-Serif\" font-size=\"14.00\" fill=\"#000000\">samples = 33</text>\n",
       "<text text-anchor=\"start\" x=\"326.5\" y=\"-79.8\" font-family=\"Helvetica,sans-Serif\" font-size=\"14.00\" fill=\"#000000\">value = [1, 32]</text>\n",
       "</g>\n",
       "<!-- 52&#45;&gt;53 -->\n",
       "<g id=\"edge9\" class=\"edge\">\n",
       "<title>52&#45;&gt;53</title>\n",
       "<path fill=\"none\" stroke=\"#000000\" d=\"M371,-175.9465C371,-167.776 371,-158.9318 371,-150.3697\"/>\n",
       "<polygon fill=\"#000000\" stroke=\"#000000\" points=\"374.5001,-150.13 371,-140.13 367.5001,-150.13 374.5001,-150.13\"/>\n",
       "</g>\n",
       "<!-- 60 -->\n",
       "<g id=\"node13\" class=\"node\">\n",
       "<title>60</title>\n",
       "<path fill=\"#399de5\" fill-opacity=\"0.690196\" stroke=\"#000000\" d=\"M562,-140C562,-140 472,-140 472,-140 466,-140 460,-134 460,-128 460,-128 460,-84 460,-84 460,-78 466,-72 472,-72 472,-72 562,-72 562,-72 568,-72 574,-78 574,-84 574,-84 574,-128 574,-128 574,-134 568,-140 562,-140\"/>\n",
       "<text text-anchor=\"start\" x=\"483\" y=\"-124.8\" font-family=\"Helvetica,sans-Serif\" font-size=\"14.00\" fill=\"#000000\">Age ≤ 52.5</text>\n",
       "<text text-anchor=\"start\" x=\"468\" y=\"-109.8\" font-family=\"Helvetica,sans-Serif\" font-size=\"14.00\" fill=\"#000000\">entropy = 0.791</text>\n",
       "<text text-anchor=\"start\" x=\"475\" y=\"-94.8\" font-family=\"Helvetica,sans-Serif\" font-size=\"14.00\" fill=\"#000000\">samples = 59</text>\n",
       "<text text-anchor=\"start\" x=\"468.5\" y=\"-79.8\" font-family=\"Helvetica,sans-Serif\" font-size=\"14.00\" fill=\"#000000\">value = [14, 45]</text>\n",
       "</g>\n",
       "<!-- 52&#45;&gt;60 -->\n",
       "<g id=\"edge12\" class=\"edge\">\n",
       "<title>52&#45;&gt;60</title>\n",
       "<path fill=\"none\" stroke=\"#000000\" d=\"M418.8059,-175.9465C432.1666,-166.4293 446.8107,-155.9978 460.6174,-146.163\"/>\n",
       "<polygon fill=\"#000000\" stroke=\"#000000\" points=\"462.9725,-148.7826 469.0867,-140.13 458.9112,-143.0811 462.9725,-148.7826\"/>\n",
       "</g>\n",
       "<!-- 54 -->\n",
       "<g id=\"node11\" class=\"node\">\n",
       "<title>54</title>\n",
       "<path fill=\"#c0c0c0\" stroke=\"#000000\" d=\"M369,-36C369,-36 339,-36 339,-36 333,-36 327,-30 327,-24 327,-24 327,-12 327,-12 327,-6 333,0 339,0 339,0 369,0 369,0 375,0 381,-6 381,-12 381,-12 381,-24 381,-24 381,-30 375,-36 369,-36\"/>\n",
       "<text text-anchor=\"middle\" x=\"354\" y=\"-14.3\" font-family=\"Helvetica,sans-Serif\" font-size=\"14.00\" fill=\"#000000\">(...)</text>\n",
       "</g>\n",
       "<!-- 53&#45;&gt;54 -->\n",
       "<g id=\"edge10\" class=\"edge\">\n",
       "<title>53&#45;&gt;54</title>\n",
       "<path fill=\"none\" stroke=\"#000000\" d=\"M364.4274,-71.9769C362.7718,-63.4071 361.0133,-54.3043 359.4214,-46.0638\"/>\n",
       "<polygon fill=\"#000000\" stroke=\"#000000\" points=\"362.8476,-45.3465 357.5144,-36.192 355.9747,-46.6743 362.8476,-45.3465\"/>\n",
       "</g>\n",
       "<!-- 59 -->\n",
       "<g id=\"node12\" class=\"node\">\n",
       "<title>59</title>\n",
       "<path fill=\"#c0c0c0\" stroke=\"#000000\" d=\"M441,-36C441,-36 411,-36 411,-36 405,-36 399,-30 399,-24 399,-24 399,-12 399,-12 399,-6 405,0 411,0 411,0 441,0 441,0 447,0 453,-6 453,-12 453,-12 453,-24 453,-24 453,-30 447,-36 441,-36\"/>\n",
       "<text text-anchor=\"middle\" x=\"426\" y=\"-14.3\" font-family=\"Helvetica,sans-Serif\" font-size=\"14.00\" fill=\"#000000\">(...)</text>\n",
       "</g>\n",
       "<!-- 53&#45;&gt;59 -->\n",
       "<g id=\"edge11\" class=\"edge\">\n",
       "<title>53&#45;&gt;59</title>\n",
       "<path fill=\"none\" stroke=\"#000000\" d=\"M392.2644,-71.9769C397.9181,-62.931 403.943,-53.2913 409.3134,-44.6986\"/>\n",
       "<polygon fill=\"#000000\" stroke=\"#000000\" points=\"412.298,-46.527 414.63,-36.192 406.362,-42.8169 412.298,-46.527\"/>\n",
       "</g>\n",
       "<!-- 61 -->\n",
       "<g id=\"node14\" class=\"node\">\n",
       "<title>61</title>\n",
       "<path fill=\"#c0c0c0\" stroke=\"#000000\" d=\"M522,-36C522,-36 492,-36 492,-36 486,-36 480,-30 480,-24 480,-24 480,-12 480,-12 480,-6 486,0 492,0 492,0 522,0 522,0 528,0 534,-6 534,-12 534,-12 534,-24 534,-24 534,-30 528,-36 522,-36\"/>\n",
       "<text text-anchor=\"middle\" x=\"507\" y=\"-14.3\" font-family=\"Helvetica,sans-Serif\" font-size=\"14.00\" fill=\"#000000\">(...)</text>\n",
       "</g>\n",
       "<!-- 60&#45;&gt;61 -->\n",
       "<g id=\"edge13\" class=\"edge\">\n",
       "<title>60&#45;&gt;61</title>\n",
       "<path fill=\"none\" stroke=\"#000000\" d=\"M513.1337,-71.9769C512.1707,-63.5023 511.1485,-54.5065 510.2203,-46.3388\"/>\n",
       "<polygon fill=\"#000000\" stroke=\"#000000\" points=\"513.6741,-45.7328 509.0673,-36.192 506.7188,-46.5232 513.6741,-45.7328\"/>\n",
       "</g>\n",
       "<!-- 96 -->\n",
       "<g id=\"node15\" class=\"node\">\n",
       "<title>96</title>\n",
       "<path fill=\"#c0c0c0\" stroke=\"#000000\" d=\"M594,-36C594,-36 564,-36 564,-36 558,-36 552,-30 552,-24 552,-24 552,-12 552,-12 552,-6 558,0 564,0 564,0 594,0 594,0 600,0 606,-6 606,-12 606,-12 606,-24 606,-24 606,-30 600,-36 594,-36\"/>\n",
       "<text text-anchor=\"middle\" x=\"579\" y=\"-14.3\" font-family=\"Helvetica,sans-Serif\" font-size=\"14.00\" fill=\"#000000\">(...)</text>\n",
       "</g>\n",
       "<!-- 60&#45;&gt;96 -->\n",
       "<g id=\"edge14\" class=\"edge\">\n",
       "<title>60&#45;&gt;96</title>\n",
       "<path fill=\"none\" stroke=\"#000000\" d=\"M540.9708,-71.9769C547.4111,-62.8358 554.2787,-53.0883 560.3806,-44.4276\"/>\n",
       "<polygon fill=\"#000000\" stroke=\"#000000\" points=\"563.2846,-46.3826 566.1829,-36.192 557.5622,-42.3509 563.2846,-46.3826\"/>\n",
       "</g>\n",
       "</g>\n",
       "</svg>\n"
      ],
      "text/plain": [
       "<graphviz.files.Source at 0x110dbdb70>"
      ]
     },
     "execution_count": 57,
     "metadata": {},
     "output_type": "execute_result"
    }
   ],
   "source": [
    "# let's try another graphical view\n",
    "from sklearn import tree\n",
    "import graphviz\n",
    "from graphviz import Source\n",
    "\n",
    "feature_names = ['Age', 'EstSalary']\n",
    "tree_graph_shallow = tree.export_graphviz(classifier, out_file=None, filled=True, rounded=True, special_characters=True, max_depth = 2, feature_names=feature_names)\n",
    "tree_graph_full = tree.export_graphviz(classifier, out_file=None, filled=True, rounded=True, special_characters=True, feature_names=feature_names)\n",
    "graph = graphviz.Source(tree_graph_shallow)\n",
    "graph.render(\"SUV_shallow\", view=True)\n",
    "Source.from_file(\"SUV_shallow\")\n"
   ]
  },
  {
   "cell_type": "code",
   "execution_count": 58,
   "metadata": {},
   "outputs": [
    {
     "data": {
      "text/plain": [
       "'SUV_full.pdf'"
      ]
     },
     "execution_count": 58,
     "metadata": {},
     "output_type": "execute_result"
    }
   ],
   "source": [
    "# render the full tree to file\n",
    "graph = graphviz.Source(tree_graph_full)\n",
    "graph.render(\"SUV_full\", view=True)"
   ]
  },
  {
   "cell_type": "code",
   "execution_count": null,
   "metadata": {},
   "outputs": [],
   "source": []
  }
 ],
 "metadata": {
  "kernelspec": {
   "display_name": "Python 3",
   "language": "python",
   "name": "python3"
  },
  "language_info": {
   "codemirror_mode": {
    "name": "ipython",
    "version": 3
   },
   "file_extension": ".py",
   "mimetype": "text/x-python",
   "name": "python",
   "nbconvert_exporter": "python",
   "pygments_lexer": "ipython3",
   "version": "3.7.2"
  }
 },
 "nbformat": 4,
 "nbformat_minor": 2
}
